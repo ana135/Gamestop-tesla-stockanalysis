{
    "cells": [
        {
            "metadata": {},
            "cell_type": "markdown",
            "source": "<center>\n    <img src=\"https://s3-api.us-geo.objectstorage.softlayer.net/cf-courses-data/CognitiveClass/Logos/organization_logo/organization_logo.png\" width=\"300\" alt=\"cognitiveclass.ai logo\"  />\n</center>\n"
        },
        {
            "metadata": {},
            "cell_type": "markdown",
            "source": "<h1>Extracting and Visualizing Stock Data</h1>\n<h2>Description</h2>\n"
        },
        {
            "metadata": {},
            "cell_type": "markdown",
            "source": "Extracting essential data from a dataset and displaying it is a necessary part of data science; therefore individuals can make correct decisions based on the data. In this assignment, you will extract some stock data, you will then display this data in a graph.\n"
        },
        {
            "metadata": {},
            "cell_type": "markdown",
            "source": "<h2>Table of Contents</h2>\n<div class=\"alert alert-block alert-info\" style=\"margin-top: 20px\">\n    <ul>\n        <li>Define a Function that Makes a Graph</li>\n        <li>Question 1: Use yfinance to Extract Stock Data</li>\n        <li>Question 2: Use Webscraping to Extract Tesla Revenue Data</li>\n        <li>Question 3: Use yfinance to Extract Stock Data</li>\n        <li>Question 4: Use Webscraping to Extract GME Revenue Data</li>\n        <li>Question 5: Plot Tesla Stock Graph</li>\n        <li>Question 6: Plot GameStop Stock Graph</li>\n    </ul>\n<p>\n    Estimated Time Needed: <strong>30 min</strong></p>\n</div>\n\n<hr>\n"
        },
        {
            "metadata": {},
            "cell_type": "code",
            "source": "!pip install yfinance\n#!pip install pandas\n#!pip install requests\n!pip install bs4\n#!pip install plotly",
            "execution_count": 2,
            "outputs": [
                {
                    "output_type": "stream",
                    "text": "Collecting yfinance\n  Downloading yfinance-0.1.63.tar.gz (26 kB)\nRequirement already satisfied: pandas>=0.24 in /opt/conda/envs/Python-3.8-main/lib/python3.8/site-packages (from yfinance) (1.2.4)\nRequirement already satisfied: numpy>=1.15 in /opt/conda/envs/Python-3.8-main/lib/python3.8/site-packages (from yfinance) (1.19.2)\nRequirement already satisfied: requests>=2.20 in /opt/conda/envs/Python-3.8-main/lib/python3.8/site-packages (from yfinance) (2.25.1)\nCollecting multitasking>=0.0.7\n  Downloading multitasking-0.0.9.tar.gz (8.1 kB)\nRequirement already satisfied: lxml>=4.5.1 in /opt/conda/envs/Python-3.8-main/lib/python3.8/site-packages (from yfinance) (4.6.3)\nRequirement already satisfied: python-dateutil>=2.7.3 in /opt/conda/envs/Python-3.8-main/lib/python3.8/site-packages (from pandas>=0.24->yfinance) (2.8.1)\nRequirement already satisfied: pytz>=2017.3 in /opt/conda/envs/Python-3.8-main/lib/python3.8/site-packages (from pandas>=0.24->yfinance) (2021.1)\nRequirement already satisfied: six>=1.5 in /opt/conda/envs/Python-3.8-main/lib/python3.8/site-packages (from python-dateutil>=2.7.3->pandas>=0.24->yfinance) (1.15.0)\nRequirement already satisfied: chardet<5,>=3.0.2 in /opt/conda/envs/Python-3.8-main/lib/python3.8/site-packages (from requests>=2.20->yfinance) (3.0.4)\nRequirement already satisfied: certifi>=2017.4.17 in /opt/conda/envs/Python-3.8-main/lib/python3.8/site-packages (from requests>=2.20->yfinance) (2021.5.30)\nRequirement already satisfied: idna<3,>=2.5 in /opt/conda/envs/Python-3.8-main/lib/python3.8/site-packages (from requests>=2.20->yfinance) (2.8)\nRequirement already satisfied: urllib3<1.27,>=1.21.1 in /opt/conda/envs/Python-3.8-main/lib/python3.8/site-packages (from requests>=2.20->yfinance) (1.26.6)\nBuilding wheels for collected packages: yfinance, multitasking\n  Building wheel for yfinance (setup.py) ... \u001b[?25ldone\n\u001b[?25h  Created wheel for yfinance: filename=yfinance-0.1.63-py2.py3-none-any.whl size=23907 sha256=a8abbfd7f22f39b0a4507ffe9cc60e838afd86d0f489c916af2083c2e45c881a\n  Stored in directory: /tmp/wsuser/.cache/pip/wheels/ec/cc/c1/32da8ee853d742d5d7cbd11ee04421222eb354672020b57297\n  Building wheel for multitasking (setup.py) ... \u001b[?25ldone\n\u001b[?25h  Created wheel for multitasking: filename=multitasking-0.0.9-py3-none-any.whl size=8367 sha256=449b346db49c25e47e03a1fcd3c5ecefb63f0cc0fb6e3725bb3d9e403f289b96\n  Stored in directory: /tmp/wsuser/.cache/pip/wheels/57/6d/a3/a39b839cc75274d2acfb1c58bfead2f726c6577fe8c4723f13\nSuccessfully built yfinance multitasking\nInstalling collected packages: multitasking, yfinance\nSuccessfully installed multitasking-0.0.9 yfinance-0.1.63\nCollecting bs4\n  Downloading bs4-0.0.1.tar.gz (1.1 kB)\nRequirement already satisfied: beautifulsoup4 in /opt/conda/envs/Python-3.8-main/lib/python3.8/site-packages (from bs4) (4.9.3)\nRequirement already satisfied: soupsieve>1.2 in /opt/conda/envs/Python-3.8-main/lib/python3.8/site-packages (from beautifulsoup4->bs4) (2.2.1)\nBuilding wheels for collected packages: bs4\n  Building wheel for bs4 (setup.py) ... \u001b[?25ldone\n\u001b[?25h  Created wheel for bs4: filename=bs4-0.0.1-py3-none-any.whl size=1273 sha256=d2f27acb3e5cb0cee6fd13c53b26b29d944e1b3a69d308956a31609db91f4777\n  Stored in directory: /tmp/wsuser/.cache/pip/wheels/75/78/21/68b124549c9bdc94f822c02fb9aa3578a669843f9767776bca\nSuccessfully built bs4\nInstalling collected packages: bs4\nSuccessfully installed bs4-0.0.1\n",
                    "name": "stdout"
                }
            ]
        },
        {
            "metadata": {},
            "cell_type": "code",
            "source": "import yfinance as yf\nimport pandas as pd\nimport requests\nfrom bs4 import BeautifulSoup\nimport plotly.graph_objects as go\nfrom plotly.subplots import make_subplots",
            "execution_count": 4,
            "outputs": []
        },
        {
            "metadata": {},
            "cell_type": "markdown",
            "source": "## Define Graphing Function\n"
        },
        {
            "metadata": {},
            "cell_type": "markdown",
            "source": "In this section, we define the function `make_graph`. You don't have to know how the function works, you should only care about the inputs. It takes a dataframe with stock data (dataframe must contain Date and Close columns), a dataframe with revenue data (dataframe must contain Date and Revenue columns), and the name of the stock.\n"
        },
        {
            "metadata": {},
            "cell_type": "code",
            "source": "def make_graph(stock_data, revenue_data, stock):\n    fig = make_subplots(rows=2, cols=1, shared_xaxes=True, subplot_titles=(\"Historical Share Price\", \"Historical Revenue\"), vertical_spacing = .3)\n    stock_data_specific = stock_data[stock_data.Date <= '2021--06-14']\n    revenue_data_specific = revenue_data[revenue_data.Date <= '2021-04-30']\n    fig.add_trace(go.Scatter(x=pd.to_datetime(stock_data_specific.Date, infer_datetime_format=True), y=stock_data_specific.Close.astype(\"float\"), name=\"Share Price\"), row=1, col=1)\n    fig.add_trace(go.Scatter(x=pd.to_datetime(revenue_data_specific.Date, infer_datetime_format=True), y=revenue_data_specific.Revenue.astype(\"float\"), name=\"Revenue\"), row=2, col=1)\n    fig.update_xaxes(title_text=\"Date\", row=1, col=1)\n    fig.update_xaxes(title_text=\"Date\", row=2, col=1)\n    fig.update_yaxes(title_text=\"Price ($US)\", row=1, col=1)\n    fig.update_yaxes(title_text=\"Revenue ($US Millions)\", row=2, col=1)\n    fig.update_layout(showlegend=False,\n    height=900,\n    title=stock,\n    xaxis_rangeslider_visible=True)\n    fig.show()",
            "execution_count": 5,
            "outputs": []
        },
        {
            "metadata": {},
            "cell_type": "markdown",
            "source": "## Question 1: Use yfinance to Extract Stock Data\n"
        },
        {
            "metadata": {},
            "cell_type": "markdown",
            "source": "Using the `Ticker` function enter the ticker symbol of the stock we want to extract data on to create a ticker object. The stock is Tesla and its ticker symbol is `TSLA`.\n"
        },
        {
            "metadata": {},
            "cell_type": "code",
            "source": "tesla = yf.Ticker(\"TSLA\")\ntesla_info=tesla.info\ntesla_info\n",
            "execution_count": 7,
            "outputs": [
                {
                    "output_type": "execute_result",
                    "execution_count": 7,
                    "data": {
                        "text/plain": "{'zip': '94304',\n 'sector': 'Consumer Cyclical',\n 'fullTimeEmployees': 70757,\n 'longBusinessSummary': 'Tesla, Inc. designs, develops, manufactures, leases, and sells electric vehicles, and energy generation and storage systems in the United States, China, and internationally. The company operates in two segments, Automotive, and Energy Generation and Storage. The Automotive segment offers electric vehicles, as well as sells automotive regulatory credits. It provides sedans and sport utility vehicles through direct and used vehicle sales, a network of Tesla Superchargers, and in-app upgrades; and purchase financing and leasing services. This segment is also involved in the provision of non-warranty after-sales vehicle services, sale of used vehicles, retail merchandise, and vehicle insurance, as well as sale of products through its subsidiaries to third party customers; services for electric vehicles through its company-owned service locations, and Tesla mobile service technicians; and vehicle limited warranties and extended service plans. The Energy Generation and Storage segment engages in the design, manufacture, installation, sale, and leasing of solar energy generation and energy storage products, and related services to residential, commercial, and industrial customers and utilities through its website, stores, and galleries, as well as through a network of channel partners. This segment also offers service and repairs to its energy product customers, including under warranty; and various financing options to its solar customers. The company was formerly known as Tesla Motors, Inc. and changed its name to Tesla, Inc. in February 2017. Tesla, Inc. was founded in 2003 and is headquartered in Palo Alto, California.',\n 'city': 'Palo Alto',\n 'phone': '650-681-5000',\n 'state': 'CA',\n 'country': 'United States',\n 'companyOfficers': [],\n 'website': 'http://www.tesla.com',\n 'maxAge': 1,\n 'address1': '3500 Deer Creek Road',\n 'industry': 'Auto Manufacturers',\n 'ebitdaMargins': 0.13857001,\n 'profitMargins': 0.0521,\n 'grossMargins': 0.22044,\n 'operatingCashflow': 9184000000,\n 'revenueGrowth': 0.981,\n 'operatingMargins': 0.07876,\n 'ebitda': 5800999936,\n 'targetLowPrice': 67,\n 'recommendationKey': 'hold',\n 'grossProfits': 6630000000,\n 'freeCashflow': 4546874880,\n 'targetMedianPrice': 750,\n 'currentPrice': 680.26,\n 'earningsGrowth': 9.2,\n 'currentRatio': 1.508,\n 'returnOnAssets': 0.044180002,\n 'numberOfAnalystOpinions': 33,\n 'targetMeanPrice': 713.15,\n 'debtToEquity': 42.552,\n 'returnOnEquity': 0.12275,\n 'targetHighPrice': 1591,\n 'totalCash': 16229000192,\n 'totalDebt': 11169999872,\n 'totalRevenue': 41862000640,\n 'totalCashPerShare': 16.393,\n 'financialCurrency': 'USD',\n 'revenuePerShare': 43.812,\n 'quickRatio': 1.123,\n 'recommendationMean': 2.6,\n 'exchange': 'NMS',\n 'shortName': 'Tesla, Inc.',\n 'longName': 'Tesla, Inc.',\n 'exchangeTimezoneName': 'America/New_York',\n 'exchangeTimezoneShortName': 'EDT',\n 'isEsgPopulated': False,\n 'gmtOffSetMilliseconds': '-14400000',\n 'quoteType': 'EQUITY',\n 'symbol': 'TSLA',\n 'messageBoardId': 'finmb_27444752',\n 'market': 'us_market',\n 'annualHoldingsTurnover': None,\n 'enterpriseToRevenue': 16.001,\n 'beta3Year': None,\n 'enterpriseToEbitda': 115.472,\n '52WeekChange': 0.6886605,\n 'morningStarRiskRating': None,\n 'forwardEps': 6.97,\n 'revenueQuarterlyGrowth': None,\n 'sharesOutstanding': 990014976,\n 'fundInceptionDate': None,\n 'annualReportExpenseRatio': None,\n 'totalAssets': None,\n 'bookValue': 25.207,\n 'sharesShort': 29914139,\n 'sharesPercentSharesOut': 0.030199999,\n 'fundFamily': None,\n 'lastFiscalYearEnd': 1609372800,\n 'heldPercentInstitutions': 0.41287,\n 'netIncomeToCommon': 2150000128,\n 'trailingEps': 1.897,\n 'lastDividendValue': None,\n 'SandP52WeekChange': 0.29446447,\n 'priceToBook': 26.986948,\n 'heldPercentInsiders': 0.18962,\n 'nextFiscalYearEnd': 1672444800,\n 'yield': None,\n 'mostRecentQuarter': 1625011200,\n 'shortRatio': 1.41,\n 'sharesShortPreviousMonthDate': 1625011200,\n 'floatShares': 801743975,\n 'beta': 1.963959,\n 'enterpriseValue': 669854728192,\n 'priceHint': 2,\n 'threeYearAverageReturn': None,\n 'lastSplitDate': None,\n 'lastSplitFactor': None,\n 'legalType': None,\n 'lastDividendDate': None,\n 'morningStarOverallRating': None,\n 'earningsQuarterlyGrowth': 9.981,\n 'priceToSalesTrailing12Months': 16.087803,\n 'dateShortInterest': 1627603200,\n 'pegRatio': 2.61,\n 'ytdReturn': None,\n 'forwardPE': 97.59828,\n 'lastCapGain': None,\n 'shortPercentOfFloat': 0.0373,\n 'sharesShortPriorMonth': 34093281,\n 'impliedSharesOutstanding': None,\n 'category': None,\n 'fiveYearAverageReturn': None,\n 'previousClose': 673.47,\n 'regularMarketOpen': 682.85,\n 'twoHundredDayAverage': 675.293,\n 'trailingAnnualDividendYield': None,\n 'payoutRatio': 0,\n 'volume24Hr': None,\n 'regularMarketDayHigh': 692.1299,\n 'navPrice': None,\n 'averageDailyVolume10Day': 18571628,\n 'regularMarketPreviousClose': 673.47,\n 'fiftyDayAverage': 676.31354,\n 'trailingAnnualDividendRate': None,\n 'open': 682.85,\n 'toCurrency': None,\n 'averageVolume10days': 18571628,\n 'expireDate': None,\n 'algorithm': None,\n 'dividendRate': None,\n 'exDividendDate': None,\n 'circulatingSupply': None,\n 'startDate': None,\n 'regularMarketDayLow': 673.72,\n 'currency': 'USD',\n 'trailingPE': 358.5978,\n 'regularMarketVolume': 14841865,\n 'lastMarket': None,\n 'maxSupply': None,\n 'openInterest': None,\n 'marketCap': 673467596800,\n 'volumeAllCurrencies': None,\n 'strikePrice': None,\n 'averageVolume': 21862076,\n 'dayLow': 673.72,\n 'ask': 680.5,\n 'askSize': 1100,\n 'volume': 14841865,\n 'fiftyTwoWeekHigh': 900.4,\n 'fromCurrency': None,\n 'fiveYearAvgDividendYield': None,\n 'fiftyTwoWeekLow': 329.88,\n 'bid': 680,\n 'tradeable': False,\n 'dividendYield': None,\n 'bidSize': 1000,\n 'dayHigh': 692.1299,\n 'regularMarketPrice': 680.26,\n 'logo_url': 'https://logo.clearbit.com/tesla.com'}"
                    },
                    "metadata": {}
                }
            ]
        },
        {
            "metadata": {},
            "cell_type": "markdown",
            "source": "Using the ticker object and the function `history` extract stock information and save it in a dataframe named `tesla_data`. Set the `period` parameter to `max` so we get information for the maximum amount of time.\n"
        },
        {
            "metadata": {},
            "cell_type": "code",
            "source": "tesla_data = tesla.history(period=\"max\")\ntesla_data.head()",
            "execution_count": 13,
            "outputs": [
                {
                    "output_type": "execute_result",
                    "execution_count": 13,
                    "data": {
                        "text/plain": "             Open   High    Low  Close    Volume  Dividends  Stock Splits\nDate                                                                     \n2010-06-29  3.800  5.000  3.508  4.778  93831500          0           0.0\n2010-06-30  5.158  6.084  4.660  4.766  85935500          0           0.0\n2010-07-01  5.000  5.184  4.054  4.392  41094000          0           0.0\n2010-07-02  4.600  4.620  3.742  3.840  25699000          0           0.0\n2010-07-06  4.000  4.000  3.166  3.222  34334500          0           0.0",
                        "text/html": "<div>\n<style scoped>\n    .dataframe tbody tr th:only-of-type {\n        vertical-align: middle;\n    }\n\n    .dataframe tbody tr th {\n        vertical-align: top;\n    }\n\n    .dataframe thead th {\n        text-align: right;\n    }\n</style>\n<table border=\"1\" class=\"dataframe\">\n  <thead>\n    <tr style=\"text-align: right;\">\n      <th></th>\n      <th>Open</th>\n      <th>High</th>\n      <th>Low</th>\n      <th>Close</th>\n      <th>Volume</th>\n      <th>Dividends</th>\n      <th>Stock Splits</th>\n    </tr>\n    <tr>\n      <th>Date</th>\n      <th></th>\n      <th></th>\n      <th></th>\n      <th></th>\n      <th></th>\n      <th></th>\n      <th></th>\n    </tr>\n  </thead>\n  <tbody>\n    <tr>\n      <th>2010-06-29</th>\n      <td>3.800</td>\n      <td>5.000</td>\n      <td>3.508</td>\n      <td>4.778</td>\n      <td>93831500</td>\n      <td>0</td>\n      <td>0.0</td>\n    </tr>\n    <tr>\n      <th>2010-06-30</th>\n      <td>5.158</td>\n      <td>6.084</td>\n      <td>4.660</td>\n      <td>4.766</td>\n      <td>85935500</td>\n      <td>0</td>\n      <td>0.0</td>\n    </tr>\n    <tr>\n      <th>2010-07-01</th>\n      <td>5.000</td>\n      <td>5.184</td>\n      <td>4.054</td>\n      <td>4.392</td>\n      <td>41094000</td>\n      <td>0</td>\n      <td>0.0</td>\n    </tr>\n    <tr>\n      <th>2010-07-02</th>\n      <td>4.600</td>\n      <td>4.620</td>\n      <td>3.742</td>\n      <td>3.840</td>\n      <td>25699000</td>\n      <td>0</td>\n      <td>0.0</td>\n    </tr>\n    <tr>\n      <th>2010-07-06</th>\n      <td>4.000</td>\n      <td>4.000</td>\n      <td>3.166</td>\n      <td>3.222</td>\n      <td>34334500</td>\n      <td>0</td>\n      <td>0.0</td>\n    </tr>\n  </tbody>\n</table>\n</div>"
                    },
                    "metadata": {}
                }
            ]
        },
        {
            "metadata": {},
            "cell_type": "markdown",
            "source": "**Reset the index** using the `reset_index(inplace=True)` function on the tesla_data DataFrame and display the first five rows of the `tesla_data` dataframe using the `head` function. Take a screenshot of the results and code from the beginning of Question 1 to the results below.\n"
        },
        {
            "metadata": {},
            "cell_type": "code",
            "source": "tesla_data.reset_index(inplace=True)\ntesla_data.head(5)",
            "execution_count": 14,
            "outputs": [
                {
                    "output_type": "execute_result",
                    "execution_count": 14,
                    "data": {
                        "text/plain": "        Date   Open   High    Low  Close    Volume  Dividends  Stock Splits\n0 2010-06-29  3.800  5.000  3.508  4.778  93831500          0           0.0\n1 2010-06-30  5.158  6.084  4.660  4.766  85935500          0           0.0\n2 2010-07-01  5.000  5.184  4.054  4.392  41094000          0           0.0\n3 2010-07-02  4.600  4.620  3.742  3.840  25699000          0           0.0\n4 2010-07-06  4.000  4.000  3.166  3.222  34334500          0           0.0",
                        "text/html": "<div>\n<style scoped>\n    .dataframe tbody tr th:only-of-type {\n        vertical-align: middle;\n    }\n\n    .dataframe tbody tr th {\n        vertical-align: top;\n    }\n\n    .dataframe thead th {\n        text-align: right;\n    }\n</style>\n<table border=\"1\" class=\"dataframe\">\n  <thead>\n    <tr style=\"text-align: right;\">\n      <th></th>\n      <th>Date</th>\n      <th>Open</th>\n      <th>High</th>\n      <th>Low</th>\n      <th>Close</th>\n      <th>Volume</th>\n      <th>Dividends</th>\n      <th>Stock Splits</th>\n    </tr>\n  </thead>\n  <tbody>\n    <tr>\n      <th>0</th>\n      <td>2010-06-29</td>\n      <td>3.800</td>\n      <td>5.000</td>\n      <td>3.508</td>\n      <td>4.778</td>\n      <td>93831500</td>\n      <td>0</td>\n      <td>0.0</td>\n    </tr>\n    <tr>\n      <th>1</th>\n      <td>2010-06-30</td>\n      <td>5.158</td>\n      <td>6.084</td>\n      <td>4.660</td>\n      <td>4.766</td>\n      <td>85935500</td>\n      <td>0</td>\n      <td>0.0</td>\n    </tr>\n    <tr>\n      <th>2</th>\n      <td>2010-07-01</td>\n      <td>5.000</td>\n      <td>5.184</td>\n      <td>4.054</td>\n      <td>4.392</td>\n      <td>41094000</td>\n      <td>0</td>\n      <td>0.0</td>\n    </tr>\n    <tr>\n      <th>3</th>\n      <td>2010-07-02</td>\n      <td>4.600</td>\n      <td>4.620</td>\n      <td>3.742</td>\n      <td>3.840</td>\n      <td>25699000</td>\n      <td>0</td>\n      <td>0.0</td>\n    </tr>\n    <tr>\n      <th>4</th>\n      <td>2010-07-06</td>\n      <td>4.000</td>\n      <td>4.000</td>\n      <td>3.166</td>\n      <td>3.222</td>\n      <td>34334500</td>\n      <td>0</td>\n      <td>0.0</td>\n    </tr>\n  </tbody>\n</table>\n</div>"
                    },
                    "metadata": {}
                }
            ]
        },
        {
            "metadata": {},
            "cell_type": "markdown",
            "source": "## Question 2: Use Webscraping to Extract Tesla Revenue Data\n"
        },
        {
            "metadata": {},
            "cell_type": "markdown",
            "source": "Use the `requests` library to download the webpage [https://www.macrotrends.net/stocks/charts/TSLA/tesla/revenue](https://www.macrotrends.net/stocks/charts/TSLA/tesla/revenue?utm_medium=Exinfluencer&utm_source=Exinfluencer&utm_content=000026UJ&utm_term=10006555&utm_id=NA-SkillsNetwork-Channel-SkillsNetworkCoursesIBMDeveloperSkillsNetworkPY0220ENSkillsNetwork23455606-2021-01-01). Save the text of the response as a variable named `html_data`.\n"
        },
        {
            "metadata": {},
            "cell_type": "code",
            "source": "import pandas as pd\nimport requests\nfrom bs4 import BeautifulSoup\nurl = \"https://www.macrotrends.net/stocks/charts/TSLA/tesla/revenue\"\n\nhtml_data  = requests.get(url).text\nsoup = BeautifulSoup(html_data, 'html5lib')",
            "execution_count": 13,
            "outputs": []
        },
        {
            "metadata": {},
            "cell_type": "markdown",
            "source": "Parse the html data using `beautiful_soup`.\n"
        },
        {
            "metadata": {},
            "cell_type": "code",
            "source": "tesla_revenue = pd.read_html(str(tables[1]), flavor='bs4')[0]\ntesla_revenue\ntesla_revenue = pd.read_html(\"https://www.macrotrends.net/stocks/charts/TSLA/tesla/revenue\", flavor='bs4')\ntesla_revenue[1]",
            "execution_count": 50,
            "outputs": [
                {
                    "output_type": "execute_result",
                    "execution_count": 50,
                    "data": {
                        "text/plain": "   Tesla Quarterly Revenue(Millions of US $)  \\\n0                                 2021-06-30   \n1                                 2021-03-31   \n2                                 2020-12-31   \n3                                 2020-09-30   \n4                                 2020-06-30   \n5                                 2020-03-31   \n6                                 2019-12-31   \n7                                 2019-09-30   \n8                                 2019-06-30   \n9                                 2019-03-31   \n10                                2018-12-31   \n11                                2018-09-30   \n12                                2018-06-30   \n13                                2018-03-31   \n14                                2017-12-31   \n15                                2017-09-30   \n16                                2017-06-30   \n17                                2017-03-31   \n18                                2016-12-31   \n19                                2016-09-30   \n20                                2016-06-30   \n21                                2016-03-31   \n22                                2015-12-31   \n23                                2015-09-30   \n24                                2015-06-30   \n25                                2015-03-31   \n26                                2014-12-31   \n27                                2014-09-30   \n28                                2014-06-30   \n29                                2014-03-31   \n30                                2013-12-31   \n31                                2013-09-30   \n32                                2013-06-30   \n33                                2013-03-31   \n34                                2012-12-31   \n35                                2012-09-30   \n36                                2012-06-30   \n37                                2012-03-31   \n38                                2011-12-31   \n39                                2011-09-30   \n40                                2011-06-30   \n41                                2011-03-31   \n42                                2010-12-31   \n43                                2010-09-30   \n44                                2010-06-30   \n45                                2010-03-31   \n46                                2009-12-31   \n47                                2009-09-30   \n48                                2009-06-30   \n49                                2008-12-31   \n\n   Tesla Quarterly Revenue(Millions of US $).1  \n0                                      $11,958  \n1                                      $10,389  \n2                                      $10,744  \n3                                       $8,771  \n4                                       $6,036  \n5                                       $5,985  \n6                                       $7,384  \n7                                       $6,303  \n8                                       $6,350  \n9                                       $4,541  \n10                                      $7,226  \n11                                      $6,824  \n12                                      $4,002  \n13                                      $3,409  \n14                                      $3,288  \n15                                      $2,985  \n16                                      $2,790  \n17                                      $2,696  \n18                                      $2,285  \n19                                      $2,298  \n20                                      $1,270  \n21                                      $1,147  \n22                                      $1,214  \n23                                        $937  \n24                                        $955  \n25                                        $940  \n26                                        $957  \n27                                        $852  \n28                                        $769  \n29                                        $621  \n30                                        $615  \n31                                        $431  \n32                                        $405  \n33                                        $562  \n34                                        $306  \n35                                         $50  \n36                                         $27  \n37                                         $30  \n38                                         $39  \n39                                         $58  \n40                                         $58  \n41                                         $49  \n42                                         $36  \n43                                         $31  \n44                                         $28  \n45                                         $21  \n46                                         NaN  \n47                                         $46  \n48                                         $27  \n49                                         NaN  ",
                        "text/html": "<div>\n<style scoped>\n    .dataframe tbody tr th:only-of-type {\n        vertical-align: middle;\n    }\n\n    .dataframe tbody tr th {\n        vertical-align: top;\n    }\n\n    .dataframe thead th {\n        text-align: right;\n    }\n</style>\n<table border=\"1\" class=\"dataframe\">\n  <thead>\n    <tr style=\"text-align: right;\">\n      <th></th>\n      <th>Tesla Quarterly Revenue(Millions of US $)</th>\n      <th>Tesla Quarterly Revenue(Millions of US $).1</th>\n    </tr>\n  </thead>\n  <tbody>\n    <tr>\n      <th>0</th>\n      <td>2021-06-30</td>\n      <td>$11,958</td>\n    </tr>\n    <tr>\n      <th>1</th>\n      <td>2021-03-31</td>\n      <td>$10,389</td>\n    </tr>\n    <tr>\n      <th>2</th>\n      <td>2020-12-31</td>\n      <td>$10,744</td>\n    </tr>\n    <tr>\n      <th>3</th>\n      <td>2020-09-30</td>\n      <td>$8,771</td>\n    </tr>\n    <tr>\n      <th>4</th>\n      <td>2020-06-30</td>\n      <td>$6,036</td>\n    </tr>\n    <tr>\n      <th>5</th>\n      <td>2020-03-31</td>\n      <td>$5,985</td>\n    </tr>\n    <tr>\n      <th>6</th>\n      <td>2019-12-31</td>\n      <td>$7,384</td>\n    </tr>\n    <tr>\n      <th>7</th>\n      <td>2019-09-30</td>\n      <td>$6,303</td>\n    </tr>\n    <tr>\n      <th>8</th>\n      <td>2019-06-30</td>\n      <td>$6,350</td>\n    </tr>\n    <tr>\n      <th>9</th>\n      <td>2019-03-31</td>\n      <td>$4,541</td>\n    </tr>\n    <tr>\n      <th>10</th>\n      <td>2018-12-31</td>\n      <td>$7,226</td>\n    </tr>\n    <tr>\n      <th>11</th>\n      <td>2018-09-30</td>\n      <td>$6,824</td>\n    </tr>\n    <tr>\n      <th>12</th>\n      <td>2018-06-30</td>\n      <td>$4,002</td>\n    </tr>\n    <tr>\n      <th>13</th>\n      <td>2018-03-31</td>\n      <td>$3,409</td>\n    </tr>\n    <tr>\n      <th>14</th>\n      <td>2017-12-31</td>\n      <td>$3,288</td>\n    </tr>\n    <tr>\n      <th>15</th>\n      <td>2017-09-30</td>\n      <td>$2,985</td>\n    </tr>\n    <tr>\n      <th>16</th>\n      <td>2017-06-30</td>\n      <td>$2,790</td>\n    </tr>\n    <tr>\n      <th>17</th>\n      <td>2017-03-31</td>\n      <td>$2,696</td>\n    </tr>\n    <tr>\n      <th>18</th>\n      <td>2016-12-31</td>\n      <td>$2,285</td>\n    </tr>\n    <tr>\n      <th>19</th>\n      <td>2016-09-30</td>\n      <td>$2,298</td>\n    </tr>\n    <tr>\n      <th>20</th>\n      <td>2016-06-30</td>\n      <td>$1,270</td>\n    </tr>\n    <tr>\n      <th>21</th>\n      <td>2016-03-31</td>\n      <td>$1,147</td>\n    </tr>\n    <tr>\n      <th>22</th>\n      <td>2015-12-31</td>\n      <td>$1,214</td>\n    </tr>\n    <tr>\n      <th>23</th>\n      <td>2015-09-30</td>\n      <td>$937</td>\n    </tr>\n    <tr>\n      <th>24</th>\n      <td>2015-06-30</td>\n      <td>$955</td>\n    </tr>\n    <tr>\n      <th>25</th>\n      <td>2015-03-31</td>\n      <td>$940</td>\n    </tr>\n    <tr>\n      <th>26</th>\n      <td>2014-12-31</td>\n      <td>$957</td>\n    </tr>\n    <tr>\n      <th>27</th>\n      <td>2014-09-30</td>\n      <td>$852</td>\n    </tr>\n    <tr>\n      <th>28</th>\n      <td>2014-06-30</td>\n      <td>$769</td>\n    </tr>\n    <tr>\n      <th>29</th>\n      <td>2014-03-31</td>\n      <td>$621</td>\n    </tr>\n    <tr>\n      <th>30</th>\n      <td>2013-12-31</td>\n      <td>$615</td>\n    </tr>\n    <tr>\n      <th>31</th>\n      <td>2013-09-30</td>\n      <td>$431</td>\n    </tr>\n    <tr>\n      <th>32</th>\n      <td>2013-06-30</td>\n      <td>$405</td>\n    </tr>\n    <tr>\n      <th>33</th>\n      <td>2013-03-31</td>\n      <td>$562</td>\n    </tr>\n    <tr>\n      <th>34</th>\n      <td>2012-12-31</td>\n      <td>$306</td>\n    </tr>\n    <tr>\n      <th>35</th>\n      <td>2012-09-30</td>\n      <td>$50</td>\n    </tr>\n    <tr>\n      <th>36</th>\n      <td>2012-06-30</td>\n      <td>$27</td>\n    </tr>\n    <tr>\n      <th>37</th>\n      <td>2012-03-31</td>\n      <td>$30</td>\n    </tr>\n    <tr>\n      <th>38</th>\n      <td>2011-12-31</td>\n      <td>$39</td>\n    </tr>\n    <tr>\n      <th>39</th>\n      <td>2011-09-30</td>\n      <td>$58</td>\n    </tr>\n    <tr>\n      <th>40</th>\n      <td>2011-06-30</td>\n      <td>$58</td>\n    </tr>\n    <tr>\n      <th>41</th>\n      <td>2011-03-31</td>\n      <td>$49</td>\n    </tr>\n    <tr>\n      <th>42</th>\n      <td>2010-12-31</td>\n      <td>$36</td>\n    </tr>\n    <tr>\n      <th>43</th>\n      <td>2010-09-30</td>\n      <td>$31</td>\n    </tr>\n    <tr>\n      <th>44</th>\n      <td>2010-06-30</td>\n      <td>$28</td>\n    </tr>\n    <tr>\n      <th>45</th>\n      <td>2010-03-31</td>\n      <td>$21</td>\n    </tr>\n    <tr>\n      <th>46</th>\n      <td>2009-12-31</td>\n      <td>NaN</td>\n    </tr>\n    <tr>\n      <th>47</th>\n      <td>2009-09-30</td>\n      <td>$46</td>\n    </tr>\n    <tr>\n      <th>48</th>\n      <td>2009-06-30</td>\n      <td>$27</td>\n    </tr>\n    <tr>\n      <th>49</th>\n      <td>2008-12-31</td>\n      <td>NaN</td>\n    </tr>\n  </tbody>\n</table>\n</div>"
                    },
                    "metadata": {}
                }
            ]
        },
        {
            "metadata": {},
            "cell_type": "markdown",
            "source": "Using `BeautifulSoup` or the `read_html` function extract the table with `Tesla Quarterly Revenue` and store it into a dataframe named `tesla_revenue`. The dataframe should have columns `Date` and `Revenue`.\n"
        },
        {
            "metadata": {},
            "cell_type": "markdown",
            "source": "<details><summary>Click here if you need help locating the table</summary>\n\n```\n    \nBelow is the code to isolate the table, you will now need to loop through the rows and columns like in the previous lab\n    \nsoup.find_all(\"tbody\")[1]\n    \nIf you want to use the read_html function the table is located at index 1\n\n\n```\n\n</details>\n"
        },
        {
            "metadata": {},
            "cell_type": "code",
            "source": "tesla_revenue = pd.DataFrame(columns=[\"Date\",\"Quarterly Revenue\"])\nfor row in soup.find_all(\"tbody\")[1].find_all(\"tr\"):\n        col=row.find_all(\"td\")\n        date= col[0].text\n        revenue = col[1].text\n        \n        tesla_revenue = tesla_revenue.append({'Date':date, \"Quarterly Revenue\":revenue}, ignore_index= True)\ntesla_revenue",
            "execution_count": 61,
            "outputs": [
                {
                    "output_type": "execute_result",
                    "execution_count": 61,
                    "data": {
                        "text/plain": "          Date Quarterly Revenue\n0   2021-06-30           $11,958\n1   2021-03-31           $10,389\n2   2020-12-31           $10,744\n3   2020-09-30            $8,771\n4   2020-06-30            $6,036\n5   2020-03-31            $5,985\n6   2019-12-31            $7,384\n7   2019-09-30            $6,303\n8   2019-06-30            $6,350\n9   2019-03-31            $4,541\n10  2018-12-31            $7,226\n11  2018-09-30            $6,824\n12  2018-06-30            $4,002\n13  2018-03-31            $3,409\n14  2017-12-31            $3,288\n15  2017-09-30            $2,985\n16  2017-06-30            $2,790\n17  2017-03-31            $2,696\n18  2016-12-31            $2,285\n19  2016-09-30            $2,298\n20  2016-06-30            $1,270\n21  2016-03-31            $1,147\n22  2015-12-31            $1,214\n23  2015-09-30              $937\n24  2015-06-30              $955\n25  2015-03-31              $940\n26  2014-12-31              $957\n27  2014-09-30              $852\n28  2014-06-30              $769\n29  2014-03-31              $621\n30  2013-12-31              $615\n31  2013-09-30              $431\n32  2013-06-30              $405\n33  2013-03-31              $562\n34  2012-12-31              $306\n35  2012-09-30               $50\n36  2012-06-30               $27\n37  2012-03-31               $30\n38  2011-12-31               $39\n39  2011-09-30               $58\n40  2011-06-30               $58\n41  2011-03-31               $49\n42  2010-12-31               $36\n43  2010-09-30               $31\n44  2010-06-30               $28\n45  2010-03-31               $21\n46  2009-12-31                  \n47  2009-09-30               $46\n48  2009-06-30               $27\n49  2008-12-31                  ",
                        "text/html": "<div>\n<style scoped>\n    .dataframe tbody tr th:only-of-type {\n        vertical-align: middle;\n    }\n\n    .dataframe tbody tr th {\n        vertical-align: top;\n    }\n\n    .dataframe thead th {\n        text-align: right;\n    }\n</style>\n<table border=\"1\" class=\"dataframe\">\n  <thead>\n    <tr style=\"text-align: right;\">\n      <th></th>\n      <th>Date</th>\n      <th>Quarterly Revenue</th>\n    </tr>\n  </thead>\n  <tbody>\n    <tr>\n      <th>0</th>\n      <td>2021-06-30</td>\n      <td>$11,958</td>\n    </tr>\n    <tr>\n      <th>1</th>\n      <td>2021-03-31</td>\n      <td>$10,389</td>\n    </tr>\n    <tr>\n      <th>2</th>\n      <td>2020-12-31</td>\n      <td>$10,744</td>\n    </tr>\n    <tr>\n      <th>3</th>\n      <td>2020-09-30</td>\n      <td>$8,771</td>\n    </tr>\n    <tr>\n      <th>4</th>\n      <td>2020-06-30</td>\n      <td>$6,036</td>\n    </tr>\n    <tr>\n      <th>5</th>\n      <td>2020-03-31</td>\n      <td>$5,985</td>\n    </tr>\n    <tr>\n      <th>6</th>\n      <td>2019-12-31</td>\n      <td>$7,384</td>\n    </tr>\n    <tr>\n      <th>7</th>\n      <td>2019-09-30</td>\n      <td>$6,303</td>\n    </tr>\n    <tr>\n      <th>8</th>\n      <td>2019-06-30</td>\n      <td>$6,350</td>\n    </tr>\n    <tr>\n      <th>9</th>\n      <td>2019-03-31</td>\n      <td>$4,541</td>\n    </tr>\n    <tr>\n      <th>10</th>\n      <td>2018-12-31</td>\n      <td>$7,226</td>\n    </tr>\n    <tr>\n      <th>11</th>\n      <td>2018-09-30</td>\n      <td>$6,824</td>\n    </tr>\n    <tr>\n      <th>12</th>\n      <td>2018-06-30</td>\n      <td>$4,002</td>\n    </tr>\n    <tr>\n      <th>13</th>\n      <td>2018-03-31</td>\n      <td>$3,409</td>\n    </tr>\n    <tr>\n      <th>14</th>\n      <td>2017-12-31</td>\n      <td>$3,288</td>\n    </tr>\n    <tr>\n      <th>15</th>\n      <td>2017-09-30</td>\n      <td>$2,985</td>\n    </tr>\n    <tr>\n      <th>16</th>\n      <td>2017-06-30</td>\n      <td>$2,790</td>\n    </tr>\n    <tr>\n      <th>17</th>\n      <td>2017-03-31</td>\n      <td>$2,696</td>\n    </tr>\n    <tr>\n      <th>18</th>\n      <td>2016-12-31</td>\n      <td>$2,285</td>\n    </tr>\n    <tr>\n      <th>19</th>\n      <td>2016-09-30</td>\n      <td>$2,298</td>\n    </tr>\n    <tr>\n      <th>20</th>\n      <td>2016-06-30</td>\n      <td>$1,270</td>\n    </tr>\n    <tr>\n      <th>21</th>\n      <td>2016-03-31</td>\n      <td>$1,147</td>\n    </tr>\n    <tr>\n      <th>22</th>\n      <td>2015-12-31</td>\n      <td>$1,214</td>\n    </tr>\n    <tr>\n      <th>23</th>\n      <td>2015-09-30</td>\n      <td>$937</td>\n    </tr>\n    <tr>\n      <th>24</th>\n      <td>2015-06-30</td>\n      <td>$955</td>\n    </tr>\n    <tr>\n      <th>25</th>\n      <td>2015-03-31</td>\n      <td>$940</td>\n    </tr>\n    <tr>\n      <th>26</th>\n      <td>2014-12-31</td>\n      <td>$957</td>\n    </tr>\n    <tr>\n      <th>27</th>\n      <td>2014-09-30</td>\n      <td>$852</td>\n    </tr>\n    <tr>\n      <th>28</th>\n      <td>2014-06-30</td>\n      <td>$769</td>\n    </tr>\n    <tr>\n      <th>29</th>\n      <td>2014-03-31</td>\n      <td>$621</td>\n    </tr>\n    <tr>\n      <th>30</th>\n      <td>2013-12-31</td>\n      <td>$615</td>\n    </tr>\n    <tr>\n      <th>31</th>\n      <td>2013-09-30</td>\n      <td>$431</td>\n    </tr>\n    <tr>\n      <th>32</th>\n      <td>2013-06-30</td>\n      <td>$405</td>\n    </tr>\n    <tr>\n      <th>33</th>\n      <td>2013-03-31</td>\n      <td>$562</td>\n    </tr>\n    <tr>\n      <th>34</th>\n      <td>2012-12-31</td>\n      <td>$306</td>\n    </tr>\n    <tr>\n      <th>35</th>\n      <td>2012-09-30</td>\n      <td>$50</td>\n    </tr>\n    <tr>\n      <th>36</th>\n      <td>2012-06-30</td>\n      <td>$27</td>\n    </tr>\n    <tr>\n      <th>37</th>\n      <td>2012-03-31</td>\n      <td>$30</td>\n    </tr>\n    <tr>\n      <th>38</th>\n      <td>2011-12-31</td>\n      <td>$39</td>\n    </tr>\n    <tr>\n      <th>39</th>\n      <td>2011-09-30</td>\n      <td>$58</td>\n    </tr>\n    <tr>\n      <th>40</th>\n      <td>2011-06-30</td>\n      <td>$58</td>\n    </tr>\n    <tr>\n      <th>41</th>\n      <td>2011-03-31</td>\n      <td>$49</td>\n    </tr>\n    <tr>\n      <th>42</th>\n      <td>2010-12-31</td>\n      <td>$36</td>\n    </tr>\n    <tr>\n      <th>43</th>\n      <td>2010-09-30</td>\n      <td>$31</td>\n    </tr>\n    <tr>\n      <th>44</th>\n      <td>2010-06-30</td>\n      <td>$28</td>\n    </tr>\n    <tr>\n      <th>45</th>\n      <td>2010-03-31</td>\n      <td>$21</td>\n    </tr>\n    <tr>\n      <th>46</th>\n      <td>2009-12-31</td>\n      <td></td>\n    </tr>\n    <tr>\n      <th>47</th>\n      <td>2009-09-30</td>\n      <td>$46</td>\n    </tr>\n    <tr>\n      <th>48</th>\n      <td>2009-06-30</td>\n      <td>$27</td>\n    </tr>\n    <tr>\n      <th>49</th>\n      <td>2008-12-31</td>\n      <td></td>\n    </tr>\n  </tbody>\n</table>\n</div>"
                    },
                    "metadata": {}
                }
            ]
        },
        {
            "metadata": {},
            "cell_type": "markdown",
            "source": "Execute the following line to remove the comma and dollar sign from the `Revenue` column.\n"
        },
        {
            "metadata": {},
            "cell_type": "code",
            "source": "#revenue2 = col2[1].text.replace(\"$\", \"\").replace(\",\", \"\")\n#tesla_revenue['Revenue'] = tesla_revenue['Revenue'].replace({'\\$\\': '', ',': ''}, regex=True)\n#tesla_revenue[\"Revenue\"] = tesla_revenue['Revenue'].str.replace(',|\\$',\"\")\ntesla_revenue['Revenue'] = tesla_revenue['Revenue'].replace({'\\$': '', ',': ''}, regex=True)",
            "execution_count": 75,
            "outputs": [
                {
                    "output_type": "error",
                    "ename": "KeyError",
                    "evalue": "'Revenue'",
                    "traceback": [
                        "\u001b[0;31m---------------------------------------------------------------------------\u001b[0m",
                        "\u001b[0;31mKeyError\u001b[0m                                  Traceback (most recent call last)",
                        "\u001b[0;32m/opt/conda/envs/Python-3.8-main/lib/python3.8/site-packages/pandas/core/indexes/base.py\u001b[0m in \u001b[0;36mget_loc\u001b[0;34m(self, key, method, tolerance)\u001b[0m\n\u001b[1;32m   3079\u001b[0m             \u001b[0;32mtry\u001b[0m\u001b[0;34m:\u001b[0m\u001b[0;34m\u001b[0m\u001b[0;34m\u001b[0m\u001b[0m\n\u001b[0;32m-> 3080\u001b[0;31m                 \u001b[0;32mreturn\u001b[0m \u001b[0mself\u001b[0m\u001b[0;34m.\u001b[0m\u001b[0m_engine\u001b[0m\u001b[0;34m.\u001b[0m\u001b[0mget_loc\u001b[0m\u001b[0;34m(\u001b[0m\u001b[0mcasted_key\u001b[0m\u001b[0;34m)\u001b[0m\u001b[0;34m\u001b[0m\u001b[0;34m\u001b[0m\u001b[0m\n\u001b[0m\u001b[1;32m   3081\u001b[0m             \u001b[0;32mexcept\u001b[0m \u001b[0mKeyError\u001b[0m \u001b[0;32mas\u001b[0m \u001b[0merr\u001b[0m\u001b[0;34m:\u001b[0m\u001b[0;34m\u001b[0m\u001b[0;34m\u001b[0m\u001b[0m\n",
                        "\u001b[0;32mpandas/_libs/index.pyx\u001b[0m in \u001b[0;36mpandas._libs.index.IndexEngine.get_loc\u001b[0;34m()\u001b[0m\n",
                        "\u001b[0;32mpandas/_libs/index.pyx\u001b[0m in \u001b[0;36mpandas._libs.index.IndexEngine.get_loc\u001b[0;34m()\u001b[0m\n",
                        "\u001b[0;32mpandas/_libs/hashtable_class_helper.pxi\u001b[0m in \u001b[0;36mpandas._libs.hashtable.PyObjectHashTable.get_item\u001b[0;34m()\u001b[0m\n",
                        "\u001b[0;32mpandas/_libs/hashtable_class_helper.pxi\u001b[0m in \u001b[0;36mpandas._libs.hashtable.PyObjectHashTable.get_item\u001b[0;34m()\u001b[0m\n",
                        "\u001b[0;31mKeyError\u001b[0m: 'Revenue'",
                        "\nThe above exception was the direct cause of the following exception:\n",
                        "\u001b[0;31mKeyError\u001b[0m                                  Traceback (most recent call last)",
                        "\u001b[0;32m<ipython-input-75-07a350b54a21>\u001b[0m in \u001b[0;36m<module>\u001b[0;34m\u001b[0m\n\u001b[1;32m      2\u001b[0m \u001b[0;31m#tesla_revenue['Revenue'] = tesla_revenue['Revenue'].replace({'\\$\\': '', ',': ''}, regex=True)\u001b[0m\u001b[0;34m\u001b[0m\u001b[0;34m\u001b[0m\u001b[0;34m\u001b[0m\u001b[0m\n\u001b[1;32m      3\u001b[0m \u001b[0;31m#tesla_revenue[\"Revenue\"] = tesla_revenue['Revenue'].str.replace(',|\\$',\"\")\u001b[0m\u001b[0;34m\u001b[0m\u001b[0;34m\u001b[0m\u001b[0;34m\u001b[0m\u001b[0m\n\u001b[0;32m----> 4\u001b[0;31m \u001b[0mtesla_revenue\u001b[0m\u001b[0;34m[\u001b[0m\u001b[0;34m'Revenue'\u001b[0m\u001b[0;34m]\u001b[0m \u001b[0;34m=\u001b[0m \u001b[0mtesla_revenue\u001b[0m\u001b[0;34m[\u001b[0m\u001b[0;34m'Revenue'\u001b[0m\u001b[0;34m]\u001b[0m\u001b[0;34m.\u001b[0m\u001b[0mreplace\u001b[0m\u001b[0;34m(\u001b[0m\u001b[0;34m{\u001b[0m\u001b[0;34m'\\$'\u001b[0m\u001b[0;34m:\u001b[0m \u001b[0;34m''\u001b[0m\u001b[0;34m,\u001b[0m \u001b[0;34m','\u001b[0m\u001b[0;34m:\u001b[0m \u001b[0;34m''\u001b[0m\u001b[0;34m}\u001b[0m\u001b[0;34m,\u001b[0m \u001b[0mregex\u001b[0m\u001b[0;34m=\u001b[0m\u001b[0;32mTrue\u001b[0m\u001b[0;34m)\u001b[0m\u001b[0;34m\u001b[0m\u001b[0;34m\u001b[0m\u001b[0m\n\u001b[0m",
                        "\u001b[0;32m/opt/conda/envs/Python-3.8-main/lib/python3.8/site-packages/pandas/core/frame.py\u001b[0m in \u001b[0;36m__getitem__\u001b[0;34m(self, key)\u001b[0m\n\u001b[1;32m   3022\u001b[0m             \u001b[0;32mif\u001b[0m \u001b[0mself\u001b[0m\u001b[0;34m.\u001b[0m\u001b[0mcolumns\u001b[0m\u001b[0;34m.\u001b[0m\u001b[0mnlevels\u001b[0m \u001b[0;34m>\u001b[0m \u001b[0;36m1\u001b[0m\u001b[0;34m:\u001b[0m\u001b[0;34m\u001b[0m\u001b[0;34m\u001b[0m\u001b[0m\n\u001b[1;32m   3023\u001b[0m                 \u001b[0;32mreturn\u001b[0m \u001b[0mself\u001b[0m\u001b[0;34m.\u001b[0m\u001b[0m_getitem_multilevel\u001b[0m\u001b[0;34m(\u001b[0m\u001b[0mkey\u001b[0m\u001b[0;34m)\u001b[0m\u001b[0;34m\u001b[0m\u001b[0;34m\u001b[0m\u001b[0m\n\u001b[0;32m-> 3024\u001b[0;31m             \u001b[0mindexer\u001b[0m \u001b[0;34m=\u001b[0m \u001b[0mself\u001b[0m\u001b[0;34m.\u001b[0m\u001b[0mcolumns\u001b[0m\u001b[0;34m.\u001b[0m\u001b[0mget_loc\u001b[0m\u001b[0;34m(\u001b[0m\u001b[0mkey\u001b[0m\u001b[0;34m)\u001b[0m\u001b[0;34m\u001b[0m\u001b[0;34m\u001b[0m\u001b[0m\n\u001b[0m\u001b[1;32m   3025\u001b[0m             \u001b[0;32mif\u001b[0m \u001b[0mis_integer\u001b[0m\u001b[0;34m(\u001b[0m\u001b[0mindexer\u001b[0m\u001b[0;34m)\u001b[0m\u001b[0;34m:\u001b[0m\u001b[0;34m\u001b[0m\u001b[0;34m\u001b[0m\u001b[0m\n\u001b[1;32m   3026\u001b[0m                 \u001b[0mindexer\u001b[0m \u001b[0;34m=\u001b[0m \u001b[0;34m[\u001b[0m\u001b[0mindexer\u001b[0m\u001b[0;34m]\u001b[0m\u001b[0;34m\u001b[0m\u001b[0;34m\u001b[0m\u001b[0m\n",
                        "\u001b[0;32m/opt/conda/envs/Python-3.8-main/lib/python3.8/site-packages/pandas/core/indexes/base.py\u001b[0m in \u001b[0;36mget_loc\u001b[0;34m(self, key, method, tolerance)\u001b[0m\n\u001b[1;32m   3080\u001b[0m                 \u001b[0;32mreturn\u001b[0m \u001b[0mself\u001b[0m\u001b[0;34m.\u001b[0m\u001b[0m_engine\u001b[0m\u001b[0;34m.\u001b[0m\u001b[0mget_loc\u001b[0m\u001b[0;34m(\u001b[0m\u001b[0mcasted_key\u001b[0m\u001b[0;34m)\u001b[0m\u001b[0;34m\u001b[0m\u001b[0;34m\u001b[0m\u001b[0m\n\u001b[1;32m   3081\u001b[0m             \u001b[0;32mexcept\u001b[0m \u001b[0mKeyError\u001b[0m \u001b[0;32mas\u001b[0m \u001b[0merr\u001b[0m\u001b[0;34m:\u001b[0m\u001b[0;34m\u001b[0m\u001b[0;34m\u001b[0m\u001b[0m\n\u001b[0;32m-> 3082\u001b[0;31m                 \u001b[0;32mraise\u001b[0m \u001b[0mKeyError\u001b[0m\u001b[0;34m(\u001b[0m\u001b[0mkey\u001b[0m\u001b[0;34m)\u001b[0m \u001b[0;32mfrom\u001b[0m \u001b[0merr\u001b[0m\u001b[0;34m\u001b[0m\u001b[0;34m\u001b[0m\u001b[0m\n\u001b[0m\u001b[1;32m   3083\u001b[0m \u001b[0;34m\u001b[0m\u001b[0m\n\u001b[1;32m   3084\u001b[0m         \u001b[0;32mif\u001b[0m \u001b[0mtolerance\u001b[0m \u001b[0;32mis\u001b[0m \u001b[0;32mnot\u001b[0m \u001b[0;32mNone\u001b[0m\u001b[0;34m:\u001b[0m\u001b[0;34m\u001b[0m\u001b[0;34m\u001b[0m\u001b[0m\n",
                        "\u001b[0;31mKeyError\u001b[0m: 'Revenue'"
                    ]
                }
            ]
        },
        {
            "metadata": {},
            "cell_type": "markdown",
            "source": "Execute the following lines to remove an null or empty strings in the Revenue column.\n"
        },
        {
            "metadata": {},
            "cell_type": "code",
            "source": "tesla_revenue.dropna(inplace=True)\ntesla_revenue = tesla_revenue[tesla_revenue['Revenue'] != \"\"]",
            "execution_count": 76,
            "outputs": [
                {
                    "output_type": "error",
                    "ename": "KeyError",
                    "evalue": "'Revenue'",
                    "traceback": [
                        "\u001b[0;31m---------------------------------------------------------------------------\u001b[0m",
                        "\u001b[0;31mKeyError\u001b[0m                                  Traceback (most recent call last)",
                        "\u001b[0;32m/opt/conda/envs/Python-3.8-main/lib/python3.8/site-packages/pandas/core/indexes/base.py\u001b[0m in \u001b[0;36mget_loc\u001b[0;34m(self, key, method, tolerance)\u001b[0m\n\u001b[1;32m   3079\u001b[0m             \u001b[0;32mtry\u001b[0m\u001b[0;34m:\u001b[0m\u001b[0;34m\u001b[0m\u001b[0;34m\u001b[0m\u001b[0m\n\u001b[0;32m-> 3080\u001b[0;31m                 \u001b[0;32mreturn\u001b[0m \u001b[0mself\u001b[0m\u001b[0;34m.\u001b[0m\u001b[0m_engine\u001b[0m\u001b[0;34m.\u001b[0m\u001b[0mget_loc\u001b[0m\u001b[0;34m(\u001b[0m\u001b[0mcasted_key\u001b[0m\u001b[0;34m)\u001b[0m\u001b[0;34m\u001b[0m\u001b[0;34m\u001b[0m\u001b[0m\n\u001b[0m\u001b[1;32m   3081\u001b[0m             \u001b[0;32mexcept\u001b[0m \u001b[0mKeyError\u001b[0m \u001b[0;32mas\u001b[0m \u001b[0merr\u001b[0m\u001b[0;34m:\u001b[0m\u001b[0;34m\u001b[0m\u001b[0;34m\u001b[0m\u001b[0m\n",
                        "\u001b[0;32mpandas/_libs/index.pyx\u001b[0m in \u001b[0;36mpandas._libs.index.IndexEngine.get_loc\u001b[0;34m()\u001b[0m\n",
                        "\u001b[0;32mpandas/_libs/index.pyx\u001b[0m in \u001b[0;36mpandas._libs.index.IndexEngine.get_loc\u001b[0;34m()\u001b[0m\n",
                        "\u001b[0;32mpandas/_libs/hashtable_class_helper.pxi\u001b[0m in \u001b[0;36mpandas._libs.hashtable.PyObjectHashTable.get_item\u001b[0;34m()\u001b[0m\n",
                        "\u001b[0;32mpandas/_libs/hashtable_class_helper.pxi\u001b[0m in \u001b[0;36mpandas._libs.hashtable.PyObjectHashTable.get_item\u001b[0;34m()\u001b[0m\n",
                        "\u001b[0;31mKeyError\u001b[0m: 'Revenue'",
                        "\nThe above exception was the direct cause of the following exception:\n",
                        "\u001b[0;31mKeyError\u001b[0m                                  Traceback (most recent call last)",
                        "\u001b[0;32m<ipython-input-76-991952237736>\u001b[0m in \u001b[0;36m<module>\u001b[0;34m\u001b[0m\n\u001b[1;32m      1\u001b[0m \u001b[0mtesla_revenue\u001b[0m\u001b[0;34m.\u001b[0m\u001b[0mdropna\u001b[0m\u001b[0;34m(\u001b[0m\u001b[0minplace\u001b[0m\u001b[0;34m=\u001b[0m\u001b[0;32mTrue\u001b[0m\u001b[0;34m)\u001b[0m\u001b[0;34m\u001b[0m\u001b[0;34m\u001b[0m\u001b[0m\n\u001b[0;32m----> 2\u001b[0;31m \u001b[0mtesla_revenue\u001b[0m \u001b[0;34m=\u001b[0m \u001b[0mtesla_revenue\u001b[0m\u001b[0;34m[\u001b[0m\u001b[0mtesla_revenue\u001b[0m\u001b[0;34m[\u001b[0m\u001b[0;34m'Revenue'\u001b[0m\u001b[0;34m]\u001b[0m \u001b[0;34m!=\u001b[0m \u001b[0;34m\"\"\u001b[0m\u001b[0;34m]\u001b[0m\u001b[0;34m\u001b[0m\u001b[0;34m\u001b[0m\u001b[0m\n\u001b[0m",
                        "\u001b[0;32m/opt/conda/envs/Python-3.8-main/lib/python3.8/site-packages/pandas/core/frame.py\u001b[0m in \u001b[0;36m__getitem__\u001b[0;34m(self, key)\u001b[0m\n\u001b[1;32m   3022\u001b[0m             \u001b[0;32mif\u001b[0m \u001b[0mself\u001b[0m\u001b[0;34m.\u001b[0m\u001b[0mcolumns\u001b[0m\u001b[0;34m.\u001b[0m\u001b[0mnlevels\u001b[0m \u001b[0;34m>\u001b[0m \u001b[0;36m1\u001b[0m\u001b[0;34m:\u001b[0m\u001b[0;34m\u001b[0m\u001b[0;34m\u001b[0m\u001b[0m\n\u001b[1;32m   3023\u001b[0m                 \u001b[0;32mreturn\u001b[0m \u001b[0mself\u001b[0m\u001b[0;34m.\u001b[0m\u001b[0m_getitem_multilevel\u001b[0m\u001b[0;34m(\u001b[0m\u001b[0mkey\u001b[0m\u001b[0;34m)\u001b[0m\u001b[0;34m\u001b[0m\u001b[0;34m\u001b[0m\u001b[0m\n\u001b[0;32m-> 3024\u001b[0;31m             \u001b[0mindexer\u001b[0m \u001b[0;34m=\u001b[0m \u001b[0mself\u001b[0m\u001b[0;34m.\u001b[0m\u001b[0mcolumns\u001b[0m\u001b[0;34m.\u001b[0m\u001b[0mget_loc\u001b[0m\u001b[0;34m(\u001b[0m\u001b[0mkey\u001b[0m\u001b[0;34m)\u001b[0m\u001b[0;34m\u001b[0m\u001b[0;34m\u001b[0m\u001b[0m\n\u001b[0m\u001b[1;32m   3025\u001b[0m             \u001b[0;32mif\u001b[0m \u001b[0mis_integer\u001b[0m\u001b[0;34m(\u001b[0m\u001b[0mindexer\u001b[0m\u001b[0;34m)\u001b[0m\u001b[0;34m:\u001b[0m\u001b[0;34m\u001b[0m\u001b[0;34m\u001b[0m\u001b[0m\n\u001b[1;32m   3026\u001b[0m                 \u001b[0mindexer\u001b[0m \u001b[0;34m=\u001b[0m \u001b[0;34m[\u001b[0m\u001b[0mindexer\u001b[0m\u001b[0;34m]\u001b[0m\u001b[0;34m\u001b[0m\u001b[0;34m\u001b[0m\u001b[0m\n",
                        "\u001b[0;32m/opt/conda/envs/Python-3.8-main/lib/python3.8/site-packages/pandas/core/indexes/base.py\u001b[0m in \u001b[0;36mget_loc\u001b[0;34m(self, key, method, tolerance)\u001b[0m\n\u001b[1;32m   3080\u001b[0m                 \u001b[0;32mreturn\u001b[0m \u001b[0mself\u001b[0m\u001b[0;34m.\u001b[0m\u001b[0m_engine\u001b[0m\u001b[0;34m.\u001b[0m\u001b[0mget_loc\u001b[0m\u001b[0;34m(\u001b[0m\u001b[0mcasted_key\u001b[0m\u001b[0;34m)\u001b[0m\u001b[0;34m\u001b[0m\u001b[0;34m\u001b[0m\u001b[0m\n\u001b[1;32m   3081\u001b[0m             \u001b[0;32mexcept\u001b[0m \u001b[0mKeyError\u001b[0m \u001b[0;32mas\u001b[0m \u001b[0merr\u001b[0m\u001b[0;34m:\u001b[0m\u001b[0;34m\u001b[0m\u001b[0;34m\u001b[0m\u001b[0m\n\u001b[0;32m-> 3082\u001b[0;31m                 \u001b[0;32mraise\u001b[0m \u001b[0mKeyError\u001b[0m\u001b[0;34m(\u001b[0m\u001b[0mkey\u001b[0m\u001b[0;34m)\u001b[0m \u001b[0;32mfrom\u001b[0m \u001b[0merr\u001b[0m\u001b[0;34m\u001b[0m\u001b[0;34m\u001b[0m\u001b[0m\n\u001b[0m\u001b[1;32m   3083\u001b[0m \u001b[0;34m\u001b[0m\u001b[0m\n\u001b[1;32m   3084\u001b[0m         \u001b[0;32mif\u001b[0m \u001b[0mtolerance\u001b[0m \u001b[0;32mis\u001b[0m \u001b[0;32mnot\u001b[0m \u001b[0;32mNone\u001b[0m\u001b[0;34m:\u001b[0m\u001b[0;34m\u001b[0m\u001b[0;34m\u001b[0m\u001b[0m\n",
                        "\u001b[0;31mKeyError\u001b[0m: 'Revenue'"
                    ]
                }
            ]
        },
        {
            "metadata": {},
            "cell_type": "markdown",
            "source": "Display the last 5 row of the `tesla_revenue` dataframe using the `tail` function. Take a screenshot of the results.\n"
        },
        {
            "metadata": {},
            "cell_type": "code",
            "source": "tesla_revenue.tail()",
            "execution_count": 64,
            "outputs": [
                {
                    "output_type": "execute_result",
                    "execution_count": 64,
                    "data": {
                        "text/plain": "          Date Quarterly Revenue\n45  2010-03-31               $21\n46  2009-12-31                  \n47  2009-09-30               $46\n48  2009-06-30               $27\n49  2008-12-31                  ",
                        "text/html": "<div>\n<style scoped>\n    .dataframe tbody tr th:only-of-type {\n        vertical-align: middle;\n    }\n\n    .dataframe tbody tr th {\n        vertical-align: top;\n    }\n\n    .dataframe thead th {\n        text-align: right;\n    }\n</style>\n<table border=\"1\" class=\"dataframe\">\n  <thead>\n    <tr style=\"text-align: right;\">\n      <th></th>\n      <th>Date</th>\n      <th>Quarterly Revenue</th>\n    </tr>\n  </thead>\n  <tbody>\n    <tr>\n      <th>45</th>\n      <td>2010-03-31</td>\n      <td>$21</td>\n    </tr>\n    <tr>\n      <th>46</th>\n      <td>2009-12-31</td>\n      <td></td>\n    </tr>\n    <tr>\n      <th>47</th>\n      <td>2009-09-30</td>\n      <td>$46</td>\n    </tr>\n    <tr>\n      <th>48</th>\n      <td>2009-06-30</td>\n      <td>$27</td>\n    </tr>\n    <tr>\n      <th>49</th>\n      <td>2008-12-31</td>\n      <td></td>\n    </tr>\n  </tbody>\n</table>\n</div>"
                    },
                    "metadata": {}
                }
            ]
        },
        {
            "metadata": {},
            "cell_type": "markdown",
            "source": "## Question 3: Use yfinance to Extract Stock Data\n"
        },
        {
            "metadata": {},
            "cell_type": "markdown",
            "source": "Using the `Ticker` function enter the ticker symbol of the stock we want to extract data on to create a ticker object. The stock is GameStop and its ticker symbol is `GME`.\n"
        },
        {
            "metadata": {},
            "cell_type": "code",
            "source": "!pip install yfinance\n#!pip install pandas\n#!pip install requests\n!pip install bs4\n#!pip install plotly\nimport yfinance as yf\nimport pandas as pd\ngamestop = yf.Ticker(\"GME\")\ngamestop_info=gamestop.info\ngamestop_info\n",
            "execution_count": 3,
            "outputs": [
                {
                    "output_type": "stream",
                    "text": "Collecting yfinance\n  Downloading yfinance-0.1.63.tar.gz (26 kB)\nRequirement already satisfied: pandas>=0.24 in /opt/conda/envs/Python-3.8-main/lib/python3.8/site-packages (from yfinance) (1.2.4)\nRequirement already satisfied: numpy>=1.15 in /opt/conda/envs/Python-3.8-main/lib/python3.8/site-packages (from yfinance) (1.19.2)\nRequirement already satisfied: requests>=2.20 in /opt/conda/envs/Python-3.8-main/lib/python3.8/site-packages (from yfinance) (2.25.1)\nCollecting multitasking>=0.0.7\n  Downloading multitasking-0.0.9.tar.gz (8.1 kB)\nRequirement already satisfied: lxml>=4.5.1 in /opt/conda/envs/Python-3.8-main/lib/python3.8/site-packages (from yfinance) (4.6.3)\nRequirement already satisfied: python-dateutil>=2.7.3 in /opt/conda/envs/Python-3.8-main/lib/python3.8/site-packages (from pandas>=0.24->yfinance) (2.8.1)\nRequirement already satisfied: pytz>=2017.3 in /opt/conda/envs/Python-3.8-main/lib/python3.8/site-packages (from pandas>=0.24->yfinance) (2021.1)\nRequirement already satisfied: six>=1.5 in /opt/conda/envs/Python-3.8-main/lib/python3.8/site-packages (from python-dateutil>=2.7.3->pandas>=0.24->yfinance) (1.15.0)\nRequirement already satisfied: chardet<5,>=3.0.2 in /opt/conda/envs/Python-3.8-main/lib/python3.8/site-packages (from requests>=2.20->yfinance) (3.0.4)\nRequirement already satisfied: urllib3<1.27,>=1.21.1 in /opt/conda/envs/Python-3.8-main/lib/python3.8/site-packages (from requests>=2.20->yfinance) (1.26.6)\nRequirement already satisfied: certifi>=2017.4.17 in /opt/conda/envs/Python-3.8-main/lib/python3.8/site-packages (from requests>=2.20->yfinance) (2021.5.30)\nRequirement already satisfied: idna<3,>=2.5 in /opt/conda/envs/Python-3.8-main/lib/python3.8/site-packages (from requests>=2.20->yfinance) (2.8)\nBuilding wheels for collected packages: yfinance, multitasking\n  Building wheel for yfinance (setup.py) ... \u001b[?25ldone\n\u001b[?25h  Created wheel for yfinance: filename=yfinance-0.1.63-py2.py3-none-any.whl size=23907 sha256=d6b0960a4ee84f16b0772201c254ec5ec84c4813443486550fa5c578474b6555\n  Stored in directory: /tmp/wsuser/.cache/pip/wheels/ec/cc/c1/32da8ee853d742d5d7cbd11ee04421222eb354672020b57297\n  Building wheel for multitasking (setup.py) ... \u001b[?25ldone\n\u001b[?25h  Created wheel for multitasking: filename=multitasking-0.0.9-py3-none-any.whl size=8367 sha256=ec044fcb7c4a600dc795a5c1c00782e632d79118d483f9579cf8e20ed019e6f5\n  Stored in directory: /tmp/wsuser/.cache/pip/wheels/57/6d/a3/a39b839cc75274d2acfb1c58bfead2f726c6577fe8c4723f13\nSuccessfully built yfinance multitasking\nInstalling collected packages: multitasking, yfinance\nSuccessfully installed multitasking-0.0.9 yfinance-0.1.63\nCollecting bs4\n  Downloading bs4-0.0.1.tar.gz (1.1 kB)\nRequirement already satisfied: beautifulsoup4 in /opt/conda/envs/Python-3.8-main/lib/python3.8/site-packages (from bs4) (4.9.3)\nRequirement already satisfied: soupsieve>1.2 in /opt/conda/envs/Python-3.8-main/lib/python3.8/site-packages (from beautifulsoup4->bs4) (2.2.1)\nBuilding wheels for collected packages: bs4\n  Building wheel for bs4 (setup.py) ... \u001b[?25ldone\n\u001b[?25h  Created wheel for bs4: filename=bs4-0.0.1-py3-none-any.whl size=1273 sha256=ac991fc0394302e67fe0094a0fcb80795cc05b03ef2d6c2b27dac181867b5cdc\n  Stored in directory: /tmp/wsuser/.cache/pip/wheels/75/78/21/68b124549c9bdc94f822c02fb9aa3578a669843f9767776bca\nSuccessfully built bs4\nInstalling collected packages: bs4\nSuccessfully installed bs4-0.0.1\n",
                    "name": "stdout"
                },
                {
                    "output_type": "execute_result",
                    "execution_count": 3,
                    "data": {
                        "text/plain": "{'zip': '76051',\n 'sector': 'Consumer Cyclical',\n 'fullTimeEmployees': 12000,\n 'longBusinessSummary': 'GameStop Corp., a specialty retailer, provides games and entertainment products through its e-commerce properties and various stores in the United States, Canada, Australia, and Europe. The company sells new and pre-owned video game platforms; accessories, such as controllers, gaming headsets, virtual reality products, and memory cards; new and pre-owned video game software; and in-game digital currency, digital downloadable content, and full-game downloads, as well as network points cards, and prepaid digital and subscription cards. It also sells collectibles comprising licensed merchandise primarily related to the video game, television, and movie industries, as well as pop culture themes. The company operates its stores and e-commerce sites under the GameStop, EB Games, and Micromania brands; and collectibles stores under the Zing Pop Culture and ThinkGeek brand, as well as offers Game Informer, a print and digital video game publication featuring reviews of new title releases, game tips, and news regarding the video game industry. As of January 30, 2021, it operated 4,816 stores. The company was formerly known as GSC Holdings Corp. GameStop Corp. was founded in 1996 and is headquartered in Grapevine, Texas.',\n 'city': 'Grapevine',\n 'phone': '817 424 2000',\n 'state': 'TX',\n 'country': 'United States',\n 'companyOfficers': [],\n 'website': 'http://www.gamestop.com',\n 'maxAge': 1,\n 'address1': '625 Westport Parkway',\n 'industry': 'Specialty Retail',\n 'ebitdaMargins': -0.020179998,\n 'profitMargins': -0.02177,\n 'grossMargins': 0.24454,\n 'operatingCashflow': 154200000,\n 'revenueGrowth': 0.251,\n 'operatingMargins': -0.034760002,\n 'ebitda': -107900000,\n 'targetLowPrice': 25,\n 'recommendationKey': 'underperform',\n 'grossProfits': 1259500000,\n 'freeCashflow': -7125000,\n 'targetMedianPrice': 50,\n 'currentPrice': 159.3,\n 'earningsGrowth': None,\n 'currentRatio': 1.361,\n 'returnOnAssets': -0.04616,\n 'numberOfAnalystOpinions': 3,\n 'targetMeanPrice': 88.33,\n 'debtToEquity': 81.012,\n 'returnOnEquity': -0.17695,\n 'targetHighPrice': 190,\n 'totalCash': 694700032,\n 'totalDebt': 712499968,\n 'totalRevenue': 5345600000,\n 'totalCashPerShare': 10.037,\n 'financialCurrency': 'USD',\n 'revenuePerShare': 81.768,\n 'quickRatio': 0.784,\n 'recommendationMean': 4,\n 'exchange': 'NYQ',\n 'shortName': 'GameStop Corporation',\n 'longName': 'GameStop Corp.',\n 'exchangeTimezoneName': 'America/New_York',\n 'exchangeTimezoneShortName': 'EDT',\n 'isEsgPopulated': False,\n 'gmtOffSetMilliseconds': '-14400000',\n 'quoteType': 'EQUITY',\n 'symbol': 'GME',\n 'messageBoardId': 'finmb_1342560',\n 'market': 'us_market',\n 'annualHoldingsTurnover': None,\n 'enterpriseToRevenue': 2.066,\n 'beta3Year': None,\n 'enterpriseToEbitda': -102.352,\n '52WeekChange': 31.710472,\n 'morningStarRiskRating': None,\n 'forwardEps': -0.03,\n 'revenueQuarterlyGrowth': None,\n 'sharesOutstanding': 74379200,\n 'fundInceptionDate': None,\n 'annualReportExpenseRatio': None,\n 'totalAssets': None,\n 'bookValue': 12.691,\n 'sharesShort': 7664869,\n 'sharesPercentSharesOut': 0.1031,\n 'fundFamily': None,\n 'lastFiscalYearEnd': 1611964800,\n 'heldPercentInstitutions': 0.37103,\n 'netIncomeToCommon': -116300000,\n 'trailingEps': -1.78,\n 'lastDividendValue': None,\n 'SandP52WeekChange': 0.29446447,\n 'priceToBook': 12.552202,\n 'heldPercentInsiders': 0.18976,\n 'nextFiscalYearEnd': 1675036800,\n 'yield': None,\n 'mostRecentQuarter': 1619827200,\n 'shortRatio': 2.98,\n 'sharesShortPreviousMonthDate': 1625011200,\n 'floatShares': 56376416,\n 'beta': -2.084991,\n 'enterpriseValue': 11043770368,\n 'priceHint': 2,\n 'threeYearAverageReturn': None,\n 'lastSplitDate': None,\n 'lastSplitFactor': None,\n 'legalType': None,\n 'lastDividendDate': None,\n 'morningStarOverallRating': None,\n 'earningsQuarterlyGrowth': None,\n 'priceToSalesTrailing12Months': 2.2165158,\n 'dateShortInterest': 1627603200,\n 'pegRatio': 6.11,\n 'ytdReturn': None,\n 'forwardPE': -5310,\n 'lastCapGain': None,\n 'shortPercentOfFloat': 0.1726,\n 'sharesShortPriorMonth': 8224618,\n 'impliedSharesOutstanding': 69379200,\n 'category': None,\n 'fiveYearAverageReturn': None,\n 'previousClose': 152.9,\n 'regularMarketOpen': 153.8,\n 'twoHundredDayAverage': 171.09698,\n 'trailingAnnualDividendYield': 0,\n 'payoutRatio': 0,\n 'volume24Hr': None,\n 'regularMarketDayHigh': 160.09,\n 'navPrice': None,\n 'averageDailyVolume10Day': 1268428,\n 'regularMarketPreviousClose': 152.9,\n 'fiftyDayAverage': 169.87823,\n 'trailingAnnualDividendRate': 0,\n 'open': 153.8,\n 'toCurrency': None,\n 'averageVolume10days': 1268428,\n 'expireDate': None,\n 'algorithm': None,\n 'dividendRate': None,\n 'exDividendDate': 1552521600,\n 'circulatingSupply': None,\n 'startDate': None,\n 'regularMarketDayLow': 153.24,\n 'currency': 'USD',\n 'regularMarketVolume': 1086527,\n 'lastMarket': None,\n 'maxSupply': None,\n 'openInterest': None,\n 'marketCap': 11848606720,\n 'volumeAllCurrencies': None,\n 'strikePrice': None,\n 'averageVolume': 5457384,\n 'dayLow': 153.24,\n 'ask': 159.75,\n 'askSize': 2200,\n 'volume': 1086527,\n 'fiftyTwoWeekHigh': 483,\n 'fromCurrency': None,\n 'fiveYearAvgDividendYield': None,\n 'fiftyTwoWeekLow': 4.56,\n 'bid': 159.46,\n 'tradeable': False,\n 'dividendYield': None,\n 'bidSize': 1300,\n 'dayHigh': 160.09,\n 'regularMarketPrice': 159.3,\n 'logo_url': 'https://logo.clearbit.com/gamestop.com'}"
                    },
                    "metadata": {}
                }
            ]
        },
        {
            "metadata": {},
            "cell_type": "markdown",
            "source": "Using the ticker object and the function `history` extract stock information and save it in a dataframe named `gme_data`. Set the `period` parameter to `max` so we get information for the maximum amount of time.\n"
        },
        {
            "metadata": {},
            "cell_type": "code",
            "source": "gme_data = gamestop.history(period=\"max\")\ngme_data.head()",
            "execution_count": 4,
            "outputs": [
                {
                    "output_type": "execute_result",
                    "execution_count": 4,
                    "data": {
                        "text/plain": "                Open      High       Low     Close    Volume  Dividends  \\\nDate                                                                      \n2002-02-13  6.480513  6.773399  6.413183  6.766666  19054000        0.0   \n2002-02-14  6.850831  6.864296  6.682506  6.733003   2755400        0.0   \n2002-02-15  6.733001  6.749833  6.632006  6.699336   2097400        0.0   \n2002-02-19  6.665671  6.665671  6.312189  6.430017   1852600        0.0   \n2002-02-20  6.463681  6.648838  6.413183  6.648838   1723200        0.0   \n\n            Stock Splits  \nDate                      \n2002-02-13           0.0  \n2002-02-14           0.0  \n2002-02-15           0.0  \n2002-02-19           0.0  \n2002-02-20           0.0  ",
                        "text/html": "<div>\n<style scoped>\n    .dataframe tbody tr th:only-of-type {\n        vertical-align: middle;\n    }\n\n    .dataframe tbody tr th {\n        vertical-align: top;\n    }\n\n    .dataframe thead th {\n        text-align: right;\n    }\n</style>\n<table border=\"1\" class=\"dataframe\">\n  <thead>\n    <tr style=\"text-align: right;\">\n      <th></th>\n      <th>Open</th>\n      <th>High</th>\n      <th>Low</th>\n      <th>Close</th>\n      <th>Volume</th>\n      <th>Dividends</th>\n      <th>Stock Splits</th>\n    </tr>\n    <tr>\n      <th>Date</th>\n      <th></th>\n      <th></th>\n      <th></th>\n      <th></th>\n      <th></th>\n      <th></th>\n      <th></th>\n    </tr>\n  </thead>\n  <tbody>\n    <tr>\n      <th>2002-02-13</th>\n      <td>6.480513</td>\n      <td>6.773399</td>\n      <td>6.413183</td>\n      <td>6.766666</td>\n      <td>19054000</td>\n      <td>0.0</td>\n      <td>0.0</td>\n    </tr>\n    <tr>\n      <th>2002-02-14</th>\n      <td>6.850831</td>\n      <td>6.864296</td>\n      <td>6.682506</td>\n      <td>6.733003</td>\n      <td>2755400</td>\n      <td>0.0</td>\n      <td>0.0</td>\n    </tr>\n    <tr>\n      <th>2002-02-15</th>\n      <td>6.733001</td>\n      <td>6.749833</td>\n      <td>6.632006</td>\n      <td>6.699336</td>\n      <td>2097400</td>\n      <td>0.0</td>\n      <td>0.0</td>\n    </tr>\n    <tr>\n      <th>2002-02-19</th>\n      <td>6.665671</td>\n      <td>6.665671</td>\n      <td>6.312189</td>\n      <td>6.430017</td>\n      <td>1852600</td>\n      <td>0.0</td>\n      <td>0.0</td>\n    </tr>\n    <tr>\n      <th>2002-02-20</th>\n      <td>6.463681</td>\n      <td>6.648838</td>\n      <td>6.413183</td>\n      <td>6.648838</td>\n      <td>1723200</td>\n      <td>0.0</td>\n      <td>0.0</td>\n    </tr>\n  </tbody>\n</table>\n</div>"
                    },
                    "metadata": {}
                }
            ]
        },
        {
            "metadata": {},
            "cell_type": "markdown",
            "source": "**Reset the index** using the `reset_index(inplace=True)` function on the gme_data DataFrame and display the first five rows of the `gme_data` dataframe using the `head` function. Take a screenshot of the results and code from the beginning of Question 3 to the results below.\n"
        },
        {
            "metadata": {},
            "cell_type": "code",
            "source": "gme_data.reset_index(inplace=True)\ngme_data.head()",
            "execution_count": 6,
            "outputs": [
                {
                    "output_type": "execute_result",
                    "execution_count": 6,
                    "data": {
                        "text/plain": "   index       Date      Open      High       Low     Close    Volume  \\\n0      0 2002-02-13  6.480513  6.773399  6.413183  6.766666  19054000   \n1      1 2002-02-14  6.850831  6.864296  6.682506  6.733003   2755400   \n2      2 2002-02-15  6.733001  6.749833  6.632006  6.699336   2097400   \n3      3 2002-02-19  6.665671  6.665671  6.312189  6.430017   1852600   \n4      4 2002-02-20  6.463681  6.648838  6.413183  6.648838   1723200   \n\n   Dividends  Stock Splits  \n0        0.0           0.0  \n1        0.0           0.0  \n2        0.0           0.0  \n3        0.0           0.0  \n4        0.0           0.0  ",
                        "text/html": "<div>\n<style scoped>\n    .dataframe tbody tr th:only-of-type {\n        vertical-align: middle;\n    }\n\n    .dataframe tbody tr th {\n        vertical-align: top;\n    }\n\n    .dataframe thead th {\n        text-align: right;\n    }\n</style>\n<table border=\"1\" class=\"dataframe\">\n  <thead>\n    <tr style=\"text-align: right;\">\n      <th></th>\n      <th>index</th>\n      <th>Date</th>\n      <th>Open</th>\n      <th>High</th>\n      <th>Low</th>\n      <th>Close</th>\n      <th>Volume</th>\n      <th>Dividends</th>\n      <th>Stock Splits</th>\n    </tr>\n  </thead>\n  <tbody>\n    <tr>\n      <th>0</th>\n      <td>0</td>\n      <td>2002-02-13</td>\n      <td>6.480513</td>\n      <td>6.773399</td>\n      <td>6.413183</td>\n      <td>6.766666</td>\n      <td>19054000</td>\n      <td>0.0</td>\n      <td>0.0</td>\n    </tr>\n    <tr>\n      <th>1</th>\n      <td>1</td>\n      <td>2002-02-14</td>\n      <td>6.850831</td>\n      <td>6.864296</td>\n      <td>6.682506</td>\n      <td>6.733003</td>\n      <td>2755400</td>\n      <td>0.0</td>\n      <td>0.0</td>\n    </tr>\n    <tr>\n      <th>2</th>\n      <td>2</td>\n      <td>2002-02-15</td>\n      <td>6.733001</td>\n      <td>6.749833</td>\n      <td>6.632006</td>\n      <td>6.699336</td>\n      <td>2097400</td>\n      <td>0.0</td>\n      <td>0.0</td>\n    </tr>\n    <tr>\n      <th>3</th>\n      <td>3</td>\n      <td>2002-02-19</td>\n      <td>6.665671</td>\n      <td>6.665671</td>\n      <td>6.312189</td>\n      <td>6.430017</td>\n      <td>1852600</td>\n      <td>0.0</td>\n      <td>0.0</td>\n    </tr>\n    <tr>\n      <th>4</th>\n      <td>4</td>\n      <td>2002-02-20</td>\n      <td>6.463681</td>\n      <td>6.648838</td>\n      <td>6.413183</td>\n      <td>6.648838</td>\n      <td>1723200</td>\n      <td>0.0</td>\n      <td>0.0</td>\n    </tr>\n  </tbody>\n</table>\n</div>"
                    },
                    "metadata": {}
                }
            ]
        },
        {
            "metadata": {},
            "cell_type": "markdown",
            "source": "## Question 4: Use Webscraping to Extract GME Revenue Data\n"
        },
        {
            "metadata": {},
            "cell_type": "markdown",
            "source": "Use the `requests` library to download the webpage [https://www.macrotrends.net/stocks/charts/GME/gamestop/revenue](https://www.macrotrends.net/stocks/charts/GME/gamestop/revenue?utm_medium=Exinfluencer&utm_source=Exinfluencer&utm_content=000026UJ&utm_term=10006555&utm_id=NA-SkillsNetwork-Channel-SkillsNetworkCoursesIBMDeveloperSkillsNetworkPY0220ENSkillsNetwork23455606-2021-01-01). Save the text of the response as a variable named `html_data`.\n"
        },
        {
            "metadata": {},
            "cell_type": "code",
            "source": "import pandas as pd\nimport requests\nfrom bs4 import BeautifulSoup\nurl = \"https://www.macrotrends.net/stocks/charts/GME/gamestop/revenue\"\n\nhtml_data  = requests.get(url).text",
            "execution_count": 8,
            "outputs": []
        },
        {
            "metadata": {},
            "cell_type": "markdown",
            "source": "Parse the html data using `beautiful_soup`.\n"
        },
        {
            "metadata": {},
            "cell_type": "code",
            "source": "soup = BeautifulSoup(html_data, 'html5lib')",
            "execution_count": 10,
            "outputs": []
        },
        {
            "metadata": {},
            "cell_type": "markdown",
            "source": "Using `BeautifulSoup` or the `read_html` function extract the table with `GameStop Quarterly Revenue` and store it into a dataframe named `gme_revenue`. The dataframe should have columns `Date` and `Revenue`. Make sure the comma and dollar sign is removed from the `Revenue` column using a method similar to what you did in Question 2.\n"
        },
        {
            "metadata": {},
            "cell_type": "markdown",
            "source": "<details><summary>Click here if you need help locating the table</summary>\n\n```\n    \nBelow is the code to isolate the table, you will now need to loop through the rows and columns like in the previous lab\n    \nsoup.find_all(\"tbody\")[1]\n    \nIf you want to use the read_html function the table is located at index 1\n\n\n```\n\n</details>\n"
        },
        {
            "metadata": {},
            "cell_type": "code",
            "source": "soup.find_all(\"tbody\")[1]",
            "execution_count": 11,
            "outputs": [
                {
                    "output_type": "execute_result",
                    "execution_count": 11,
                    "data": {
                        "text/plain": "<tbody>\n\t\t\t\t\n\t\t\t\t\t\t\t\t\t\t\t\t\n\t\t\t\t<tr>\n\t\t\t\t\t<td style=\"text-align:center\">2021-04-30</td>\n\t\t\t\t\n\t\t\t\t\n\t\t\t\t\n\t\t\t\t\t\t\t\t\t\t\n\t\t\t\t\t\t\t\t\t\t\n\t\t\t\t\t\t<td style=\"text-align:center\">$1,277</td>\n\t\t\t\t\t\t\n\t\t\t\t\t\t\t\t\t\n\t\t\t\t\t\t\t\t\n\t\t\t\t  </tr>\n\t\t\t\t  \n\t\t\t\t\t\t\t\t\t\t\t\t\n\t\t\t\t<tr>\n\t\t\t\t\t<td style=\"text-align:center\">2021-01-31</td>\n\t\t\t\t\n\t\t\t\t\n\t\t\t\t\n\t\t\t\t\t\t\t\t\t\t\n\t\t\t\t\t\t\t\t\t\t\n\t\t\t\t\t\t<td style=\"text-align:center\">$2,122</td>\n\t\t\t\t\t\t\n\t\t\t\t\t\t\t\t\t\n\t\t\t\t\t\t\t\t\n\t\t\t\t  </tr>\n\t\t\t\t  \n\t\t\t\t\t\t\t\t\t\t\t\t\n\t\t\t\t<tr>\n\t\t\t\t\t<td style=\"text-align:center\">2020-10-31</td>\n\t\t\t\t\n\t\t\t\t\n\t\t\t\t\n\t\t\t\t\t\t\t\t\t\t\n\t\t\t\t\t\t\t\t\t\t\n\t\t\t\t\t\t<td style=\"text-align:center\">$1,005</td>\n\t\t\t\t\t\t\n\t\t\t\t\t\t\t\t\t\n\t\t\t\t\t\t\t\t\n\t\t\t\t  </tr>\n\t\t\t\t  \n\t\t\t\t\t\t\t\t\t\t\t\t\n\t\t\t\t<tr>\n\t\t\t\t\t<td style=\"text-align:center\">2020-07-31</td>\n\t\t\t\t\n\t\t\t\t\n\t\t\t\t\n\t\t\t\t\t\t\t\t\t\t\n\t\t\t\t\t\t\t\t\t\t\n\t\t\t\t\t\t<td style=\"text-align:center\">$942</td>\n\t\t\t\t\t\t\n\t\t\t\t\t\t\t\t\t\n\t\t\t\t\t\t\t\t\n\t\t\t\t  </tr>\n\t\t\t\t  \n\t\t\t\t\t\t\t\t\t\t\t\t\n\t\t\t\t<tr>\n\t\t\t\t\t<td style=\"text-align:center\">2020-04-30</td>\n\t\t\t\t\n\t\t\t\t\n\t\t\t\t\n\t\t\t\t\t\t\t\t\t\t\n\t\t\t\t\t\t\t\t\t\t\n\t\t\t\t\t\t<td style=\"text-align:center\">$1,021</td>\n\t\t\t\t\t\t\n\t\t\t\t\t\t\t\t\t\n\t\t\t\t\t\t\t\t\n\t\t\t\t  </tr>\n\t\t\t\t  \n\t\t\t\t\t\t\t\t\t\t\t\t\n\t\t\t\t<tr>\n\t\t\t\t\t<td style=\"text-align:center\">2020-01-31</td>\n\t\t\t\t\n\t\t\t\t\n\t\t\t\t\n\t\t\t\t\t\t\t\t\t\t\n\t\t\t\t\t\t\t\t\t\t\n\t\t\t\t\t\t<td style=\"text-align:center\">$2,194</td>\n\t\t\t\t\t\t\n\t\t\t\t\t\t\t\t\t\n\t\t\t\t\t\t\t\t\n\t\t\t\t  </tr>\n\t\t\t\t  \n\t\t\t\t\t\t\t\t\t\t\t\t\n\t\t\t\t<tr>\n\t\t\t\t\t<td style=\"text-align:center\">2019-10-31</td>\n\t\t\t\t\n\t\t\t\t\n\t\t\t\t\n\t\t\t\t\t\t\t\t\t\t\n\t\t\t\t\t\t\t\t\t\t\n\t\t\t\t\t\t<td style=\"text-align:center\">$1,439</td>\n\t\t\t\t\t\t\n\t\t\t\t\t\t\t\t\t\n\t\t\t\t\t\t\t\t\n\t\t\t\t  </tr>\n\t\t\t\t  \n\t\t\t\t\t\t\t\t\t\t\t\t\n\t\t\t\t<tr>\n\t\t\t\t\t<td style=\"text-align:center\">2019-07-31</td>\n\t\t\t\t\n\t\t\t\t\n\t\t\t\t\n\t\t\t\t\t\t\t\t\t\t\n\t\t\t\t\t\t\t\t\t\t\n\t\t\t\t\t\t<td style=\"text-align:center\">$1,286</td>\n\t\t\t\t\t\t\n\t\t\t\t\t\t\t\t\t\n\t\t\t\t\t\t\t\t\n\t\t\t\t  </tr>\n\t\t\t\t  \n\t\t\t\t\t\t\t\t\t\t\t\t\n\t\t\t\t<tr>\n\t\t\t\t\t<td style=\"text-align:center\">2019-04-30</td>\n\t\t\t\t\n\t\t\t\t\n\t\t\t\t\n\t\t\t\t\t\t\t\t\t\t\n\t\t\t\t\t\t\t\t\t\t\n\t\t\t\t\t\t<td style=\"text-align:center\">$1,548</td>\n\t\t\t\t\t\t\n\t\t\t\t\t\t\t\t\t\n\t\t\t\t\t\t\t\t\n\t\t\t\t  </tr>\n\t\t\t\t  \n\t\t\t\t\t\t\t\t\t\t\t\t\n\t\t\t\t<tr>\n\t\t\t\t\t<td style=\"text-align:center\">2019-01-31</td>\n\t\t\t\t\n\t\t\t\t\n\t\t\t\t\n\t\t\t\t\t\t\t\t\t\t\n\t\t\t\t\t\t\t\t\t\t\n\t\t\t\t\t\t<td style=\"text-align:center\">$3,063</td>\n\t\t\t\t\t\t\n\t\t\t\t\t\t\t\t\t\n\t\t\t\t\t\t\t\t\n\t\t\t\t  </tr>\n\t\t\t\t  \n\t\t\t\t\t\t\t\t\t\t\t\t\n\t\t\t\t<tr>\n\t\t\t\t\t<td style=\"text-align:center\">2018-10-31</td>\n\t\t\t\t\n\t\t\t\t\n\t\t\t\t\n\t\t\t\t\t\t\t\t\t\t\n\t\t\t\t\t\t\t\t\t\t\n\t\t\t\t\t\t<td style=\"text-align:center\">$1,935</td>\n\t\t\t\t\t\t\n\t\t\t\t\t\t\t\t\t\n\t\t\t\t\t\t\t\t\n\t\t\t\t  </tr>\n\t\t\t\t  \n\t\t\t\t\t\t\t\t\t\t\t\t\n\t\t\t\t<tr>\n\t\t\t\t\t<td style=\"text-align:center\">2018-07-31</td>\n\t\t\t\t\n\t\t\t\t\n\t\t\t\t\n\t\t\t\t\t\t\t\t\t\t\n\t\t\t\t\t\t\t\t\t\t\n\t\t\t\t\t\t<td style=\"text-align:center\">$1,501</td>\n\t\t\t\t\t\t\n\t\t\t\t\t\t\t\t\t\n\t\t\t\t\t\t\t\t\n\t\t\t\t  </tr>\n\t\t\t\t  \n\t\t\t\t\t\t\t\t\t\t\t\t\n\t\t\t\t<tr>\n\t\t\t\t\t<td style=\"text-align:center\">2018-04-30</td>\n\t\t\t\t\n\t\t\t\t\n\t\t\t\t\n\t\t\t\t\t\t\t\t\t\t\n\t\t\t\t\t\t\t\t\t\t\n\t\t\t\t\t\t<td style=\"text-align:center\">$1,786</td>\n\t\t\t\t\t\t\n\t\t\t\t\t\t\t\t\t\n\t\t\t\t\t\t\t\t\n\t\t\t\t  </tr>\n\t\t\t\t  \n\t\t\t\t\t\t\t\t\t\t\t\t\n\t\t\t\t<tr>\n\t\t\t\t\t<td style=\"text-align:center\">2018-01-31</td>\n\t\t\t\t\n\t\t\t\t\n\t\t\t\t\n\t\t\t\t\t\t\t\t\t\t\n\t\t\t\t\t\t\t\t\t\t\n\t\t\t\t\t\t<td style=\"text-align:center\">$2,825</td>\n\t\t\t\t\t\t\n\t\t\t\t\t\t\t\t\t\n\t\t\t\t\t\t\t\t\n\t\t\t\t  </tr>\n\t\t\t\t  \n\t\t\t\t\t\t\t\t\t\t\t\t\n\t\t\t\t<tr>\n\t\t\t\t\t<td style=\"text-align:center\">2017-10-31</td>\n\t\t\t\t\n\t\t\t\t\n\t\t\t\t\n\t\t\t\t\t\t\t\t\t\t\n\t\t\t\t\t\t\t\t\t\t\n\t\t\t\t\t\t<td style=\"text-align:center\">$1,989</td>\n\t\t\t\t\t\t\n\t\t\t\t\t\t\t\t\t\n\t\t\t\t\t\t\t\t\n\t\t\t\t  </tr>\n\t\t\t\t  \n\t\t\t\t\t\t\t\t\t\t\t\t\n\t\t\t\t<tr>\n\t\t\t\t\t<td style=\"text-align:center\">2017-07-31</td>\n\t\t\t\t\n\t\t\t\t\n\t\t\t\t\n\t\t\t\t\t\t\t\t\t\t\n\t\t\t\t\t\t\t\t\t\t\n\t\t\t\t\t\t<td style=\"text-align:center\">$1,688</td>\n\t\t\t\t\t\t\n\t\t\t\t\t\t\t\t\t\n\t\t\t\t\t\t\t\t\n\t\t\t\t  </tr>\n\t\t\t\t  \n\t\t\t\t\t\t\t\t\t\t\t\t\n\t\t\t\t<tr>\n\t\t\t\t\t<td style=\"text-align:center\">2017-04-30</td>\n\t\t\t\t\n\t\t\t\t\n\t\t\t\t\n\t\t\t\t\t\t\t\t\t\t\n\t\t\t\t\t\t\t\t\t\t\n\t\t\t\t\t\t<td style=\"text-align:center\">$2,046</td>\n\t\t\t\t\t\t\n\t\t\t\t\t\t\t\t\t\n\t\t\t\t\t\t\t\t\n\t\t\t\t  </tr>\n\t\t\t\t  \n\t\t\t\t\t\t\t\t\t\t\t\t\n\t\t\t\t<tr>\n\t\t\t\t\t<td style=\"text-align:center\">2017-01-31</td>\n\t\t\t\t\n\t\t\t\t\n\t\t\t\t\n\t\t\t\t\t\t\t\t\t\t\n\t\t\t\t\t\t\t\t\t\t\n\t\t\t\t\t\t<td style=\"text-align:center\">$2,403</td>\n\t\t\t\t\t\t\n\t\t\t\t\t\t\t\t\t\n\t\t\t\t\t\t\t\t\n\t\t\t\t  </tr>\n\t\t\t\t  \n\t\t\t\t\t\t\t\t\t\t\t\t\n\t\t\t\t<tr>\n\t\t\t\t\t<td style=\"text-align:center\">2016-10-31</td>\n\t\t\t\t\n\t\t\t\t\n\t\t\t\t\n\t\t\t\t\t\t\t\t\t\t\n\t\t\t\t\t\t\t\t\t\t\n\t\t\t\t\t\t<td style=\"text-align:center\">$1,959</td>\n\t\t\t\t\t\t\n\t\t\t\t\t\t\t\t\t\n\t\t\t\t\t\t\t\t\n\t\t\t\t  </tr>\n\t\t\t\t  \n\t\t\t\t\t\t\t\t\t\t\t\t\n\t\t\t\t<tr>\n\t\t\t\t\t<td style=\"text-align:center\">2016-07-31</td>\n\t\t\t\t\n\t\t\t\t\n\t\t\t\t\n\t\t\t\t\t\t\t\t\t\t\n\t\t\t\t\t\t\t\t\t\t\n\t\t\t\t\t\t<td style=\"text-align:center\">$1,632</td>\n\t\t\t\t\t\t\n\t\t\t\t\t\t\t\t\t\n\t\t\t\t\t\t\t\t\n\t\t\t\t  </tr>\n\t\t\t\t  \n\t\t\t\t\t\t\t\t\t\t\t\t\n\t\t\t\t<tr>\n\t\t\t\t\t<td style=\"text-align:center\">2016-04-30</td>\n\t\t\t\t\n\t\t\t\t\n\t\t\t\t\n\t\t\t\t\t\t\t\t\t\t\n\t\t\t\t\t\t\t\t\t\t\n\t\t\t\t\t\t<td style=\"text-align:center\">$1,972</td>\n\t\t\t\t\t\t\n\t\t\t\t\t\t\t\t\t\n\t\t\t\t\t\t\t\t\n\t\t\t\t  </tr>\n\t\t\t\t  \n\t\t\t\t\t\t\t\t\t\t\t\t\n\t\t\t\t<tr>\n\t\t\t\t\t<td style=\"text-align:center\">2016-01-31</td>\n\t\t\t\t\n\t\t\t\t\n\t\t\t\t\n\t\t\t\t\t\t\t\t\t\t\n\t\t\t\t\t\t\t\t\t\t\n\t\t\t\t\t\t<td style=\"text-align:center\">$3,525</td>\n\t\t\t\t\t\t\n\t\t\t\t\t\t\t\t\t\n\t\t\t\t\t\t\t\t\n\t\t\t\t  </tr>\n\t\t\t\t  \n\t\t\t\t\t\t\t\t\t\t\t\t\n\t\t\t\t<tr>\n\t\t\t\t\t<td style=\"text-align:center\">2015-10-31</td>\n\t\t\t\t\n\t\t\t\t\n\t\t\t\t\n\t\t\t\t\t\t\t\t\t\t\n\t\t\t\t\t\t\t\t\t\t\n\t\t\t\t\t\t<td style=\"text-align:center\">$2,016</td>\n\t\t\t\t\t\t\n\t\t\t\t\t\t\t\t\t\n\t\t\t\t\t\t\t\t\n\t\t\t\t  </tr>\n\t\t\t\t  \n\t\t\t\t\t\t\t\t\t\t\t\t\n\t\t\t\t<tr>\n\t\t\t\t\t<td style=\"text-align:center\">2015-07-31</td>\n\t\t\t\t\n\t\t\t\t\n\t\t\t\t\n\t\t\t\t\t\t\t\t\t\t\n\t\t\t\t\t\t\t\t\t\t\n\t\t\t\t\t\t<td style=\"text-align:center\">$1,762</td>\n\t\t\t\t\t\t\n\t\t\t\t\t\t\t\t\t\n\t\t\t\t\t\t\t\t\n\t\t\t\t  </tr>\n\t\t\t\t  \n\t\t\t\t\t\t\t\t\t\t\t\t\n\t\t\t\t<tr>\n\t\t\t\t\t<td style=\"text-align:center\">2015-04-30</td>\n\t\t\t\t\n\t\t\t\t\n\t\t\t\t\n\t\t\t\t\t\t\t\t\t\t\n\t\t\t\t\t\t\t\t\t\t\n\t\t\t\t\t\t<td style=\"text-align:center\">$2,061</td>\n\t\t\t\t\t\t\n\t\t\t\t\t\t\t\t\t\n\t\t\t\t\t\t\t\t\n\t\t\t\t  </tr>\n\t\t\t\t  \n\t\t\t\t\t\t\t\t\t\t\t\t\n\t\t\t\t<tr>\n\t\t\t\t\t<td style=\"text-align:center\">2015-01-31</td>\n\t\t\t\t\n\t\t\t\t\n\t\t\t\t\n\t\t\t\t\t\t\t\t\t\t\n\t\t\t\t\t\t\t\t\t\t\n\t\t\t\t\t\t<td style=\"text-align:center\">$3,476</td>\n\t\t\t\t\t\t\n\t\t\t\t\t\t\t\t\t\n\t\t\t\t\t\t\t\t\n\t\t\t\t  </tr>\n\t\t\t\t  \n\t\t\t\t\t\t\t\t\t\t\t\t\n\t\t\t\t<tr>\n\t\t\t\t\t<td style=\"text-align:center\">2014-10-31</td>\n\t\t\t\t\n\t\t\t\t\n\t\t\t\t\n\t\t\t\t\t\t\t\t\t\t\n\t\t\t\t\t\t\t\t\t\t\n\t\t\t\t\t\t<td style=\"text-align:center\">$2,092</td>\n\t\t\t\t\t\t\n\t\t\t\t\t\t\t\t\t\n\t\t\t\t\t\t\t\t\n\t\t\t\t  </tr>\n\t\t\t\t  \n\t\t\t\t\t\t\t\t\t\t\t\t\n\t\t\t\t<tr>\n\t\t\t\t\t<td style=\"text-align:center\">2014-07-31</td>\n\t\t\t\t\n\t\t\t\t\n\t\t\t\t\n\t\t\t\t\t\t\t\t\t\t\n\t\t\t\t\t\t\t\t\t\t\n\t\t\t\t\t\t<td style=\"text-align:center\">$1,731</td>\n\t\t\t\t\t\t\n\t\t\t\t\t\t\t\t\t\n\t\t\t\t\t\t\t\t\n\t\t\t\t  </tr>\n\t\t\t\t  \n\t\t\t\t\t\t\t\t\t\t\t\t\n\t\t\t\t<tr>\n\t\t\t\t\t<td style=\"text-align:center\">2014-04-30</td>\n\t\t\t\t\n\t\t\t\t\n\t\t\t\t\n\t\t\t\t\t\t\t\t\t\t\n\t\t\t\t\t\t\t\t\t\t\n\t\t\t\t\t\t<td style=\"text-align:center\">$1,996</td>\n\t\t\t\t\t\t\n\t\t\t\t\t\t\t\t\t\n\t\t\t\t\t\t\t\t\n\t\t\t\t  </tr>\n\t\t\t\t  \n\t\t\t\t\t\t\t\t\t\t\t\t\n\t\t\t\t<tr>\n\t\t\t\t\t<td style=\"text-align:center\">2014-01-31</td>\n\t\t\t\t\n\t\t\t\t\n\t\t\t\t\n\t\t\t\t\t\t\t\t\t\t\n\t\t\t\t\t\t\t\t\t\t\n\t\t\t\t\t\t<td style=\"text-align:center\">$3,684</td>\n\t\t\t\t\t\t\n\t\t\t\t\t\t\t\t\t\n\t\t\t\t\t\t\t\t\n\t\t\t\t  </tr>\n\t\t\t\t  \n\t\t\t\t\t\t\t\t\t\t\t\t\n\t\t\t\t<tr>\n\t\t\t\t\t<td style=\"text-align:center\">2013-10-31</td>\n\t\t\t\t\n\t\t\t\t\n\t\t\t\t\n\t\t\t\t\t\t\t\t\t\t\n\t\t\t\t\t\t\t\t\t\t\n\t\t\t\t\t\t<td style=\"text-align:center\">$2,107</td>\n\t\t\t\t\t\t\n\t\t\t\t\t\t\t\t\t\n\t\t\t\t\t\t\t\t\n\t\t\t\t  </tr>\n\t\t\t\t  \n\t\t\t\t\t\t\t\t\t\t\t\t\n\t\t\t\t<tr>\n\t\t\t\t\t<td style=\"text-align:center\">2013-07-31</td>\n\t\t\t\t\n\t\t\t\t\n\t\t\t\t\n\t\t\t\t\t\t\t\t\t\t\n\t\t\t\t\t\t\t\t\t\t\n\t\t\t\t\t\t<td style=\"text-align:center\">$1,384</td>\n\t\t\t\t\t\t\n\t\t\t\t\t\t\t\t\t\n\t\t\t\t\t\t\t\t\n\t\t\t\t  </tr>\n\t\t\t\t  \n\t\t\t\t\t\t\t\t\t\t\t\t\n\t\t\t\t<tr>\n\t\t\t\t\t<td style=\"text-align:center\">2013-04-30</td>\n\t\t\t\t\n\t\t\t\t\n\t\t\t\t\n\t\t\t\t\t\t\t\t\t\t\n\t\t\t\t\t\t\t\t\t\t\n\t\t\t\t\t\t<td style=\"text-align:center\">$1,865</td>\n\t\t\t\t\t\t\n\t\t\t\t\t\t\t\t\t\n\t\t\t\t\t\t\t\t\n\t\t\t\t  </tr>\n\t\t\t\t  \n\t\t\t\t\t\t\t\t\t\t\t\t\n\t\t\t\t<tr>\n\t\t\t\t\t<td style=\"text-align:center\">2013-01-31</td>\n\t\t\t\t\n\t\t\t\t\n\t\t\t\t\n\t\t\t\t\t\t\t\t\t\t\n\t\t\t\t\t\t\t\t\t\t\n\t\t\t\t\t\t<td style=\"text-align:center\">$3,562</td>\n\t\t\t\t\t\t\n\t\t\t\t\t\t\t\t\t\n\t\t\t\t\t\t\t\t\n\t\t\t\t  </tr>\n\t\t\t\t  \n\t\t\t\t\t\t\t\t\t\t\t\t\n\t\t\t\t<tr>\n\t\t\t\t\t<td style=\"text-align:center\">2012-10-31</td>\n\t\t\t\t\n\t\t\t\t\n\t\t\t\t\n\t\t\t\t\t\t\t\t\t\t\n\t\t\t\t\t\t\t\t\t\t\n\t\t\t\t\t\t<td style=\"text-align:center\">$1,773</td>\n\t\t\t\t\t\t\n\t\t\t\t\t\t\t\t\t\n\t\t\t\t\t\t\t\t\n\t\t\t\t  </tr>\n\t\t\t\t  \n\t\t\t\t\t\t\t\t\t\t\t\t\n\t\t\t\t<tr>\n\t\t\t\t\t<td style=\"text-align:center\">2012-07-31</td>\n\t\t\t\t\n\t\t\t\t\n\t\t\t\t\n\t\t\t\t\t\t\t\t\t\t\n\t\t\t\t\t\t\t\t\t\t\n\t\t\t\t\t\t<td style=\"text-align:center\">$1,550</td>\n\t\t\t\t\t\t\n\t\t\t\t\t\t\t\t\t\n\t\t\t\t\t\t\t\t\n\t\t\t\t  </tr>\n\t\t\t\t  \n\t\t\t\t\t\t\t\t\t\t\t\t\n\t\t\t\t<tr>\n\t\t\t\t\t<td style=\"text-align:center\">2012-04-30</td>\n\t\t\t\t\n\t\t\t\t\n\t\t\t\t\n\t\t\t\t\t\t\t\t\t\t\n\t\t\t\t\t\t\t\t\t\t\n\t\t\t\t\t\t<td style=\"text-align:center\">$2,002</td>\n\t\t\t\t\t\t\n\t\t\t\t\t\t\t\t\t\n\t\t\t\t\t\t\t\t\n\t\t\t\t  </tr>\n\t\t\t\t  \n\t\t\t\t\t\t\t\t\t\t\t\t\n\t\t\t\t<tr>\n\t\t\t\t\t<td style=\"text-align:center\">2012-01-31</td>\n\t\t\t\t\n\t\t\t\t\n\t\t\t\t\n\t\t\t\t\t\t\t\t\t\t\n\t\t\t\t\t\t\t\t\t\t\n\t\t\t\t\t\t<td style=\"text-align:center\">$3,579</td>\n\t\t\t\t\t\t\n\t\t\t\t\t\t\t\t\t\n\t\t\t\t\t\t\t\t\n\t\t\t\t  </tr>\n\t\t\t\t  \n\t\t\t\t\t\t\t\t\t\t\t\t\n\t\t\t\t<tr>\n\t\t\t\t\t<td style=\"text-align:center\">2011-10-31</td>\n\t\t\t\t\n\t\t\t\t\n\t\t\t\t\n\t\t\t\t\t\t\t\t\t\t\n\t\t\t\t\t\t\t\t\t\t\n\t\t\t\t\t\t<td style=\"text-align:center\">$1,947</td>\n\t\t\t\t\t\t\n\t\t\t\t\t\t\t\t\t\n\t\t\t\t\t\t\t\t\n\t\t\t\t  </tr>\n\t\t\t\t  \n\t\t\t\t\t\t\t\t\t\t\t\t\n\t\t\t\t<tr>\n\t\t\t\t\t<td style=\"text-align:center\">2011-07-31</td>\n\t\t\t\t\n\t\t\t\t\n\t\t\t\t\n\t\t\t\t\t\t\t\t\t\t\n\t\t\t\t\t\t\t\t\t\t\n\t\t\t\t\t\t<td style=\"text-align:center\">$1,744</td>\n\t\t\t\t\t\t\n\t\t\t\t\t\t\t\t\t\n\t\t\t\t\t\t\t\t\n\t\t\t\t  </tr>\n\t\t\t\t  \n\t\t\t\t\t\t\t\t\t\t\t\t\n\t\t\t\t<tr>\n\t\t\t\t\t<td style=\"text-align:center\">2011-04-30</td>\n\t\t\t\t\n\t\t\t\t\n\t\t\t\t\n\t\t\t\t\t\t\t\t\t\t\n\t\t\t\t\t\t\t\t\t\t\n\t\t\t\t\t\t<td style=\"text-align:center\">$2,281</td>\n\t\t\t\t\t\t\n\t\t\t\t\t\t\t\t\t\n\t\t\t\t\t\t\t\t\n\t\t\t\t  </tr>\n\t\t\t\t  \n\t\t\t\t\t\t\t\t\t\t\t\t\n\t\t\t\t<tr>\n\t\t\t\t\t<td style=\"text-align:center\">2011-01-31</td>\n\t\t\t\t\n\t\t\t\t\n\t\t\t\t\n\t\t\t\t\t\t\t\t\t\t\n\t\t\t\t\t\t\t\t\t\t\n\t\t\t\t\t\t<td style=\"text-align:center\">$3,693</td>\n\t\t\t\t\t\t\n\t\t\t\t\t\t\t\t\t\n\t\t\t\t\t\t\t\t\n\t\t\t\t  </tr>\n\t\t\t\t  \n\t\t\t\t\t\t\t\t\t\t\t\t\n\t\t\t\t<tr>\n\t\t\t\t\t<td style=\"text-align:center\">2010-10-31</td>\n\t\t\t\t\n\t\t\t\t\n\t\t\t\t\n\t\t\t\t\t\t\t\t\t\t\n\t\t\t\t\t\t\t\t\t\t\n\t\t\t\t\t\t<td style=\"text-align:center\">$1,899</td>\n\t\t\t\t\t\t\n\t\t\t\t\t\t\t\t\t\n\t\t\t\t\t\t\t\t\n\t\t\t\t  </tr>\n\t\t\t\t  \n\t\t\t\t\t\t\t\t\t\t\t\t\n\t\t\t\t<tr>\n\t\t\t\t\t<td style=\"text-align:center\">2010-07-31</td>\n\t\t\t\t\n\t\t\t\t\n\t\t\t\t\n\t\t\t\t\t\t\t\t\t\t\n\t\t\t\t\t\t\t\t\t\t\n\t\t\t\t\t\t<td style=\"text-align:center\">$1,799</td>\n\t\t\t\t\t\t\n\t\t\t\t\t\t\t\t\t\n\t\t\t\t\t\t\t\t\n\t\t\t\t  </tr>\n\t\t\t\t  \n\t\t\t\t\t\t\t\t\t\t\t\t\n\t\t\t\t<tr>\n\t\t\t\t\t<td style=\"text-align:center\">2010-04-30</td>\n\t\t\t\t\n\t\t\t\t\n\t\t\t\t\n\t\t\t\t\t\t\t\t\t\t\n\t\t\t\t\t\t\t\t\t\t\n\t\t\t\t\t\t<td style=\"text-align:center\">$2,083</td>\n\t\t\t\t\t\t\n\t\t\t\t\t\t\t\t\t\n\t\t\t\t\t\t\t\t\n\t\t\t\t  </tr>\n\t\t\t\t  \n\t\t\t\t\t\t\t\t\t\t\t\t\n\t\t\t\t<tr>\n\t\t\t\t\t<td style=\"text-align:center\">2010-01-31</td>\n\t\t\t\t\n\t\t\t\t\n\t\t\t\t\n\t\t\t\t\t\t\t\t\t\t\n\t\t\t\t\t\t\t\t\t\t\n\t\t\t\t\t\t<td style=\"text-align:center\">$3,524</td>\n\t\t\t\t\t\t\n\t\t\t\t\t\t\t\t\t\n\t\t\t\t\t\t\t\t\n\t\t\t\t  </tr>\n\t\t\t\t  \n\t\t\t\t\t\t\t\t\t\t\t\t\n\t\t\t\t<tr>\n\t\t\t\t\t<td style=\"text-align:center\">2009-10-31</td>\n\t\t\t\t\n\t\t\t\t\n\t\t\t\t\n\t\t\t\t\t\t\t\t\t\t\n\t\t\t\t\t\t\t\t\t\t\n\t\t\t\t\t\t<td style=\"text-align:center\">$1,835</td>\n\t\t\t\t\t\t\n\t\t\t\t\t\t\t\t\t\n\t\t\t\t\t\t\t\t\n\t\t\t\t  </tr>\n\t\t\t\t  \n\t\t\t\t\t\t\t\t\t\t\t\t\n\t\t\t\t<tr>\n\t\t\t\t\t<td style=\"text-align:center\">2009-07-31</td>\n\t\t\t\t\n\t\t\t\t\n\t\t\t\t\n\t\t\t\t\t\t\t\t\t\t\n\t\t\t\t\t\t\t\t\t\t\n\t\t\t\t\t\t<td style=\"text-align:center\">$1,739</td>\n\t\t\t\t\t\t\n\t\t\t\t\t\t\t\t\t\n\t\t\t\t\t\t\t\t\n\t\t\t\t  </tr>\n\t\t\t\t  \n\t\t\t\t\t\t\t\t\t\t\t\t\n\t\t\t\t<tr>\n\t\t\t\t\t<td style=\"text-align:center\">2009-04-30</td>\n\t\t\t\t\n\t\t\t\t\n\t\t\t\t\n\t\t\t\t\t\t\t\t\t\t\n\t\t\t\t\t\t\t\t\t\t\n\t\t\t\t\t\t<td style=\"text-align:center\">$1,981</td>\n\t\t\t\t\t\t\n\t\t\t\t\t\t\t\t\t\n\t\t\t\t\t\t\t\t\n\t\t\t\t  </tr>\n\t\t\t\t  \n\t\t\t\t\t\t\t\t\t\t\t\t\n\t\t\t\t<tr>\n\t\t\t\t\t<td style=\"text-align:center\">2009-01-31</td>\n\t\t\t\t\n\t\t\t\t\n\t\t\t\t\n\t\t\t\t\t\t\t\t\t\t\n\t\t\t\t\t\t\t\t\t\t\n\t\t\t\t\t\t<td style=\"text-align:center\">$3,492</td>\n\t\t\t\t\t\t\n\t\t\t\t\t\t\t\t\t\n\t\t\t\t\t\t\t\t\n\t\t\t\t  </tr>\n\t\t\t\t  \n\t\t\t\t\t\t\t\t\t\t\t\t\n\t\t\t\t<tr>\n\t\t\t\t\t<td style=\"text-align:center\">2008-10-31</td>\n\t\t\t\t\n\t\t\t\t\n\t\t\t\t\n\t\t\t\t\t\t\t\t\t\t\n\t\t\t\t\t\t\t\t\t\t\n\t\t\t\t\t\t<td style=\"text-align:center\">$1,696</td>\n\t\t\t\t\t\t\n\t\t\t\t\t\t\t\t\t\n\t\t\t\t\t\t\t\t\n\t\t\t\t  </tr>\n\t\t\t\t  \n\t\t\t\t\t\t\t\t\t\t\t\t\n\t\t\t\t<tr>\n\t\t\t\t\t<td style=\"text-align:center\">2008-07-31</td>\n\t\t\t\t\n\t\t\t\t\n\t\t\t\t\n\t\t\t\t\t\t\t\t\t\t\n\t\t\t\t\t\t\t\t\t\t\n\t\t\t\t\t\t<td style=\"text-align:center\">$1,804</td>\n\t\t\t\t\t\t\n\t\t\t\t\t\t\t\t\t\n\t\t\t\t\t\t\t\t\n\t\t\t\t  </tr>\n\t\t\t\t  \n\t\t\t\t\t\t\t\t\t\t\t\t\n\t\t\t\t<tr>\n\t\t\t\t\t<td style=\"text-align:center\">2008-04-30</td>\n\t\t\t\t\n\t\t\t\t\n\t\t\t\t\n\t\t\t\t\t\t\t\t\t\t\n\t\t\t\t\t\t\t\t\t\t\n\t\t\t\t\t\t<td style=\"text-align:center\">$1,814</td>\n\t\t\t\t\t\t\n\t\t\t\t\t\t\t\t\t\n\t\t\t\t\t\t\t\t\n\t\t\t\t  </tr>\n\t\t\t\t  \n\t\t\t\t\t\t\t\t\t\t\t\t\n\t\t\t\t<tr>\n\t\t\t\t\t<td style=\"text-align:center\">2008-01-31</td>\n\t\t\t\t\n\t\t\t\t\n\t\t\t\t\n\t\t\t\t\t\t\t\t\t\t\n\t\t\t\t\t\t\t\t\t\t\n\t\t\t\t\t\t<td style=\"text-align:center\">$2,866</td>\n\t\t\t\t\t\t\n\t\t\t\t\t\t\t\t\t\n\t\t\t\t\t\t\t\t\n\t\t\t\t  </tr>\n\t\t\t\t  \n\t\t\t\t\t\t\t\t\t\t\t\t\n\t\t\t\t<tr>\n\t\t\t\t\t<td style=\"text-align:center\">2007-10-31</td>\n\t\t\t\t\n\t\t\t\t\n\t\t\t\t\n\t\t\t\t\t\t\t\t\t\t\n\t\t\t\t\t\t\t\t\t\t\n\t\t\t\t\t\t<td style=\"text-align:center\">$1,611</td>\n\t\t\t\t\t\t\n\t\t\t\t\t\t\t\t\t\n\t\t\t\t\t\t\t\t\n\t\t\t\t  </tr>\n\t\t\t\t  \n\t\t\t\t\t\t\t\t\t\t\t\t\n\t\t\t\t<tr>\n\t\t\t\t\t<td style=\"text-align:center\">2007-07-31</td>\n\t\t\t\t\n\t\t\t\t\n\t\t\t\t\n\t\t\t\t\t\t\t\t\t\t\n\t\t\t\t\t\t\t\t\t\t\n\t\t\t\t\t\t<td style=\"text-align:center\">$1,338</td>\n\t\t\t\t\t\t\n\t\t\t\t\t\t\t\t\t\n\t\t\t\t\t\t\t\t\n\t\t\t\t  </tr>\n\t\t\t\t  \n\t\t\t\t\t\t\t\t\t\t\t\t\n\t\t\t\t<tr>\n\t\t\t\t\t<td style=\"text-align:center\">2007-04-30</td>\n\t\t\t\t\n\t\t\t\t\n\t\t\t\t\n\t\t\t\t\t\t\t\t\t\t\n\t\t\t\t\t\t\t\t\t\t\n\t\t\t\t\t\t<td style=\"text-align:center\">$1,279</td>\n\t\t\t\t\t\t\n\t\t\t\t\t\t\t\t\t\n\t\t\t\t\t\t\t\t\n\t\t\t\t  </tr>\n\t\t\t\t  \n\t\t\t\t\t\t\t\t\t\t\t\t\n\t\t\t\t<tr>\n\t\t\t\t\t<td style=\"text-align:center\">2007-01-31</td>\n\t\t\t\t\n\t\t\t\t\n\t\t\t\t\n\t\t\t\t\t\t\t\t\t\t\n\t\t\t\t\t\t\t\t\t\t\n\t\t\t\t\t\t<td style=\"text-align:center\">$2,304</td>\n\t\t\t\t\t\t\n\t\t\t\t\t\t\t\t\t\n\t\t\t\t\t\t\t\t\n\t\t\t\t  </tr>\n\t\t\t\t  \n\t\t\t\t\t\t\t\t\t\t\t\t\n\t\t\t\t<tr>\n\t\t\t\t\t<td style=\"text-align:center\">2006-10-31</td>\n\t\t\t\t\n\t\t\t\t\n\t\t\t\t\n\t\t\t\t\t\t\t\t\t\t\n\t\t\t\t\t\t\t\t\t\t\n\t\t\t\t\t\t<td style=\"text-align:center\">$1,012</td>\n\t\t\t\t\t\t\n\t\t\t\t\t\t\t\t\t\n\t\t\t\t\t\t\t\t\n\t\t\t\t  </tr>\n\t\t\t\t  \n\t\t\t\t\t\t\t\t\t\t\t\t\n\t\t\t\t<tr>\n\t\t\t\t\t<td style=\"text-align:center\">2006-07-31</td>\n\t\t\t\t\n\t\t\t\t\n\t\t\t\t\n\t\t\t\t\t\t\t\t\t\t\n\t\t\t\t\t\t\t\t\t\t\n\t\t\t\t\t\t<td style=\"text-align:center\">$963</td>\n\t\t\t\t\t\t\n\t\t\t\t\t\t\t\t\t\n\t\t\t\t\t\t\t\t\n\t\t\t\t  </tr>\n\t\t\t\t  \n\t\t\t\t\t\t\t\t\t\t\t\t\n\t\t\t\t<tr>\n\t\t\t\t\t<td style=\"text-align:center\">2006-04-30</td>\n\t\t\t\t\n\t\t\t\t\n\t\t\t\t\n\t\t\t\t\t\t\t\t\t\t\n\t\t\t\t\t\t\t\t\t\t\n\t\t\t\t\t\t<td style=\"text-align:center\">$1,040</td>\n\t\t\t\t\t\t\n\t\t\t\t\t\t\t\t\t\n\t\t\t\t\t\t\t\t\n\t\t\t\t  </tr>\n\t\t\t\t  \n\t\t\t\t\t\t\t\t\t\t\t\t\n\t\t\t\t<tr>\n\t\t\t\t\t<td style=\"text-align:center\">2006-01-31</td>\n\t\t\t\t\n\t\t\t\t\n\t\t\t\t\n\t\t\t\t\t\t\t\t\t\t\n\t\t\t\t\t\t\t\t\t\t\n\t\t\t\t\t\t<td style=\"text-align:center\">$1,667</td>\n\t\t\t\t\t\t\n\t\t\t\t\t\t\t\t\t\n\t\t\t\t\t\t\t\t\n\t\t\t\t  </tr>\n\t\t\t\t  \n\t\t\t\t\t\t\t\t\t\t\t\t\n\t\t\t\t<tr>\n\t\t\t\t\t<td style=\"text-align:center\">2005-10-31</td>\n\t\t\t\t\n\t\t\t\t\n\t\t\t\t\n\t\t\t\t\t\t\t\t\t\t\n\t\t\t\t\t\t\t\t\t\t\n\t\t\t\t\t\t<td style=\"text-align:center\">$534</td>\n\t\t\t\t\t\t\n\t\t\t\t\t\t\t\t\t\n\t\t\t\t\t\t\t\t\n\t\t\t\t  </tr>\n\t\t\t\t  \n\t\t\t\t\t\t\t\t\t\t\t\t\n\t\t\t\t<tr>\n\t\t\t\t\t<td style=\"text-align:center\">2005-07-31</td>\n\t\t\t\t\n\t\t\t\t\n\t\t\t\t\n\t\t\t\t\t\t\t\t\t\t\n\t\t\t\t\t\t\t\t\t\t\n\t\t\t\t\t\t<td style=\"text-align:center\">$416</td>\n\t\t\t\t\t\t\n\t\t\t\t\t\t\t\t\t\n\t\t\t\t\t\t\t\t\n\t\t\t\t  </tr>\n\t\t\t\t  \n\t\t\t\t\t\t\t\t\t\t\t\t\n\t\t\t\t<tr>\n\t\t\t\t\t<td style=\"text-align:center\">2005-04-30</td>\n\t\t\t\t\n\t\t\t\t\n\t\t\t\t\n\t\t\t\t\t\t\t\t\t\t\n\t\t\t\t\t\t\t\t\t\t\n\t\t\t\t\t\t<td style=\"text-align:center\">$475</td>\n\t\t\t\t\t\t\n\t\t\t\t\t\t\t\t\t\n\t\t\t\t\t\t\t\t\n\t\t\t\t  </tr>\n\t\t\t\t  \n\t\t\t\t\t\t\t\t\t\t\t\t\n\t\t\t\t<tr>\n\t\t\t\t\t<td style=\"text-align:center\">2005-01-31</td>\n\t\t\t\t\n\t\t\t\t\n\t\t\t\t\n\t\t\t\t\t\t\t\t\t\t\n\t\t\t\t\t\t\t\t\t\t\n\t\t\t\t\t\t<td style=\"text-align:center\">$709</td>\n\t\t\t\t\t\t\n\t\t\t\t\t\t\t\t\t\n\t\t\t\t\t\t\t\t\n\t\t\t\t  </tr>\n\t\t\t\t  \n\t\t\t\t  \n\t\t\t\t</tbody>"
                    },
                    "metadata": {}
                }
            ]
        },
        {
            "metadata": {},
            "cell_type": "markdown",
            "source": "Display the last five rows of the `gme_revenue` dataframe using the `tail` function. Take a screenshot of the results.\n"
        },
        {
            "metadata": {},
            "cell_type": "code",
            "source": "gme_revenue.tail(5)",
            "execution_count": 12,
            "outputs": [
                {
                    "output_type": "error",
                    "ename": "NameError",
                    "evalue": "name 'gme_revenue' is not defined",
                    "traceback": [
                        "\u001b[0;31m---------------------------------------------------------------------------\u001b[0m",
                        "\u001b[0;31mNameError\u001b[0m                                 Traceback (most recent call last)",
                        "\u001b[0;32m<ipython-input-12-31fcca6a030f>\u001b[0m in \u001b[0;36m<module>\u001b[0;34m\u001b[0m\n\u001b[0;32m----> 1\u001b[0;31m \u001b[0mgme_revenue\u001b[0m\u001b[0;34m.\u001b[0m\u001b[0mtail\u001b[0m\u001b[0;34m(\u001b[0m\u001b[0;36m5\u001b[0m\u001b[0;34m)\u001b[0m\u001b[0;34m\u001b[0m\u001b[0;34m\u001b[0m\u001b[0m\n\u001b[0m",
                        "\u001b[0;31mNameError\u001b[0m: name 'gme_revenue' is not defined"
                    ]
                }
            ]
        },
        {
            "metadata": {},
            "cell_type": "markdown",
            "source": "## Question 5: Plot Tesla Stock Graph\n"
        },
        {
            "metadata": {},
            "cell_type": "markdown",
            "source": "Use the `make_graph` function to graph the Tesla Stock Data, also provide a title for the graph. The structure to call the `make_graph` function is `make_graph(tesla_data, tesla_revenue, 'Tesla')`. Note the graph will only show data upto June 2021.\n"
        },
        {
            "metadata": {},
            "cell_type": "code",
            "source": "make_graph (tesla_data, tesla_revenue, \"Tesla\")",
            "execution_count": 67,
            "outputs": [
                {
                    "output_type": "error",
                    "ename": "NameError",
                    "evalue": "name 'make_graph' is not defined",
                    "traceback": [
                        "\u001b[0;31m---------------------------------------------------------------------------\u001b[0m",
                        "\u001b[0;31mNameError\u001b[0m                                 Traceback (most recent call last)",
                        "\u001b[0;32m<ipython-input-67-a3dc3283944a>\u001b[0m in \u001b[0;36m<module>\u001b[0;34m\u001b[0m\n\u001b[0;32m----> 1\u001b[0;31m \u001b[0mmake_graph\u001b[0m \u001b[0;34m(\u001b[0m\u001b[0mtesla_data\u001b[0m\u001b[0;34m,\u001b[0m \u001b[0mtesla_revenue\u001b[0m\u001b[0;34m,\u001b[0m \u001b[0;34m\"Tesla\"\u001b[0m\u001b[0;34m)\u001b[0m\u001b[0;34m\u001b[0m\u001b[0;34m\u001b[0m\u001b[0m\n\u001b[0m",
                        "\u001b[0;31mNameError\u001b[0m: name 'make_graph' is not defined"
                    ]
                }
            ]
        },
        {
            "metadata": {},
            "cell_type": "markdown",
            "source": "## Question 6: Plot GameStop Stock Graph\n"
        },
        {
            "metadata": {},
            "cell_type": "markdown",
            "source": "Use the `make_graph` function to graph the GameStop Stock Data, also provide a title for the graph. The structure to call the `make_graph` function is `make_graph(gme_data, gme_revenue, 'GameStop')`. Note the graph will only show data upto June 2021.\n"
        },
        {
            "metadata": {},
            "cell_type": "code",
            "source": "make_graph(gme_data, gme_revenue,\"GameStop\")",
            "execution_count": 57,
            "outputs": [
                {
                    "output_type": "error",
                    "ename": "NameError",
                    "evalue": "name 'make_graph' is not defined",
                    "traceback": [
                        "\u001b[0;31m---------------------------------------------------------------------------\u001b[0m",
                        "\u001b[0;31mNameError\u001b[0m                                 Traceback (most recent call last)",
                        "\u001b[0;32m<ipython-input-57-e800c1bd8c50>\u001b[0m in \u001b[0;36m<module>\u001b[0;34m\u001b[0m\n\u001b[0;32m----> 1\u001b[0;31m \u001b[0mmake_graph\u001b[0m\u001b[0;34m(\u001b[0m\u001b[0mgme_data\u001b[0m\u001b[0;34m,\u001b[0m \u001b[0mgme_revenue\u001b[0m\u001b[0;34m,\u001b[0m\u001b[0;34m\"GameStop\"\u001b[0m\u001b[0;34m)\u001b[0m\u001b[0;34m\u001b[0m\u001b[0;34m\u001b[0m\u001b[0m\n\u001b[0m",
                        "\u001b[0;31mNameError\u001b[0m: name 'make_graph' is not defined"
                    ]
                }
            ]
        },
        {
            "metadata": {},
            "cell_type": "markdown",
            "source": "<h2>About the Authors:</h2> \n\n<a href=\"https://www.linkedin.com/in/joseph-s-50398b136/?utm_medium=Exinfluencer&utm_source=Exinfluencer&utm_content=000026UJ&utm_term=10006555&utm_id=NA-SkillsNetwork-Channel-SkillsNetworkCoursesIBMDeveloperSkillsNetworkPY0220ENSkillsNetwork23455606-2021-01-01\">Joseph Santarcangelo</a> has a PhD in Electrical Engineering, his research focused on using machine learning, signal processing, and computer vision to determine how videos impact human cognition. Joseph has been working for IBM since he completed his PhD.\n\nAzim Hirjani\n"
        },
        {
            "metadata": {},
            "cell_type": "markdown",
            "source": "## Change Log\n\n| Date (YYYY-MM-DD) | Version | Changed By    | Change Description        |\n| ----------------- | ------- | ------------- | ------------------------- |\n| 2020-11-10        | 1.1     | Malika Singla | Deleted the Optional part |\n| 2020-08-27        | 1.0     | Malika Singla | Added lab to GitLab       |\n\n<hr>\n\n## <h3 align=\"center\"> \u00a9 IBM Corporation 2020. All rights reserved. <h3/>\n\n<p>\n"
        }
    ],
    "metadata": {
        "kernelspec": {
            "name": "python3",
            "display_name": "Python 3.8",
            "language": "python"
        },
        "language_info": {
            "name": "python",
            "version": "3.8.10",
            "mimetype": "text/x-python",
            "codemirror_mode": {
                "name": "ipython",
                "version": 3
            },
            "pygments_lexer": "ipython3",
            "nbconvert_exporter": "python",
            "file_extension": ".py"
        }
    },
    "nbformat": 4,
    "nbformat_minor": 4
}